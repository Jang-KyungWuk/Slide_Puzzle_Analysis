{
  "nbformat": 4,
  "nbformat_minor": 0,
  "metadata": {
    "colab": {
      "name": "Sample Data Extractor.ipynb",
      "provenance": [],
      "authorship_tag": "ABX9TyNU3odBjepvDtN0ekKH+St6",
      "include_colab_link": true
    },
    "kernelspec": {
      "name": "python3",
      "display_name": "Python 3"
    }
  },
  "cells": [
    {
      "cell_type": "markdown",
      "metadata": {
        "id": "view-in-github",
        "colab_type": "text"
      },
      "source": [
        "<a href=\"https://colab.research.google.com/github/Jang-KyungWuk/Slide_Puzzle_Analysis/blob/master/Sample_Data_Extractor.ipynb\" target=\"_parent\"><img src=\"https://colab.research.google.com/assets/colab-badge.svg\" alt=\"Open In Colab\"/></a>"
      ]
    },
    {
      "cell_type": "code",
      "metadata": {
        "id": "QrWBE2fNI_Td",
        "colab_type": "code",
        "colab": {
          "base_uri": "https://localhost:8080/",
          "height": 34
        },
        "outputId": "336fcf47-296c-4063-894c-6465b8c3ce88"
      },
      "source": [
        "# Driver Mount\n",
        "# Only necessary on goole colab\n",
        "from google.colab import drive\n",
        "drive.mount('/content/gdrive')"
      ],
      "execution_count": null,
      "outputs": [
        {
          "output_type": "stream",
          "text": [
            "Drive already mounted at /content/gdrive; to attempt to forcibly remount, call drive.mount(\"/content/gdrive\", force_remount=True).\n"
          ],
          "name": "stdout"
        }
      ]
    },
    {
      "cell_type": "code",
      "metadata": {
        "id": "drhY4SJVJOHe",
        "colab_type": "code",
        "colab": {}
      },
      "source": [
        "# Import libraries\n",
        "import numpy as np\n",
        "import matplotlib.pyplot as plt\n",
        "import cv2 as cv\n",
        "import csv"
      ],
      "execution_count": null,
      "outputs": []
    },
    {
      "cell_type": "code",
      "metadata": {
        "id": "6Rhh6pViJPLj",
        "colab_type": "code",
        "colab": {}
      },
      "source": [
        "# Set flags\n",
        "save_p_frame = True # Save frames containing puzzle as jpg\n",
        "fbf_p_tracker_save = True # Save frames containing puzzle and it's tracking as jpg\n",
        "\n",
        "# Set base directory (directory of this file on colab enviornment)\n",
        "# When setting base_dir directory should end with \\\n",
        "# For colab '/content/gdrive/My Drive/'\n",
        "base_dir=\"/content/gdrive/My Drive/\"\n",
        "\n",
        "# Name of video file to\n",
        "sample_video=\"sample_vid.mp4\"\n",
        "\n",
        "# Frame by frame threshold\n",
        "min_fbf_thres=0.5\n",
        "max_fbf_thres=0.8\n",
        "fbf_method=cv.TM_CCOEFF_NORMED\n",
        "\n",
        "# Piece_threshold\n",
        "piece_thres=0.95\n",
        "piece_method=cv.TM_CCOEFF_NORMED\n",
        "\n",
        "# Puzzle status finder sensitivity\n",
        "sensitivity=60\n",
        "\n",
        "# Load puzzle piece templates\n",
        "puzzle_piece=[]\n",
        "puzzle_diversity=6 # Last origin has 6 types of puzzles\n",
        "for puzzle_num in range (puzzle_diversity):\n",
        "    pieces=[]\n",
        "    for piece_num in range (2,10): # 2,3,4,5,6,7,8,9 pieces (piece 1 is blank)\n",
        "        pieces.append(cv.imread(base_dir+\"sample_template/%d%d.jpg\"%(puzzle_num+1,piece_num)))\n",
        "    puzzle_piece.append(pieces)\n",
        "\n",
        "# BGR in list to track pieces\n",
        "color=[(0,0,255),(0,255,0),(255,0,0),\n",
        "       (0,200,200),(200,0,200),(200,200,0),\n",
        "       (200,200,200),(255,255,255)]"
      ],
      "execution_count": null,
      "outputs": []
    },
    {
      "cell_type": "code",
      "metadata": {
        "id": "04AS1FGHJPIl",
        "colab_type": "code",
        "colab": {
          "base_uri": "https://localhost:8080/",
          "height": 34
        },
        "outputId": "6fc3488e-3672-4bd8-f5ce-0f22db895640"
      },
      "source": [
        "# Program starts from here\n",
        "\n",
        "# List which will store puzzle number and puzzle status\n",
        "sample=[]\n",
        "\n",
        "# Load video with puzzles\n",
        "cap=cv.VideoCapture(base_dir+sample_video)\n",
        "\n",
        "# Value used for labeling\n",
        "capture_cursor=1\n",
        "\n",
        "# read first frame\n",
        "ret,frame=cap.read()\n",
        "template_frame=frame # frame of one step before\n",
        "\n",
        "# run program until last frame is given\n",
        "while cap.isOpened():\n",
        "    ret,frame=cap.read()\n",
        "    # Stop stream when there's no frame\n",
        "    if not ret:\n",
        "        print(\"Can't recieve frame (or stream ended)\")\n",
        "        break\n",
        "\n",
        "    # Compare with frame right before\n",
        "    res=cv.matchTemplate(frame,template_frame,fbf_method)\n",
        "    # Frames are same on size so only 1 res value returned\n",
        "    if min_fbf_thres<res[0][0]<max_fbf_thres:\n",
        "\n",
        "        # Start Analysis if this frame is 'properly' changed\n",
        "        '''\n",
        "        High relativity: continuous frame (not needed)\n",
        "        Proper relativity : puzzle appeared (right after answer pop up)\n",
        "        Low relativity : answer appeared (only answer shows up first) , puzzle pop off\n",
        "        '''\n",
        "\n",
        "        # If flag is given, save this frame\n",
        "        if save_p_frame == True:\n",
        "            cv.imwrite(base_dir+\"frame%d.jpg\"%capture_cursor,frame)\n",
        "\n",
        "        # List which will save positions of template (puzzle piece)\n",
        "        piece_pos=[]\n",
        "        \n",
        "        # Find puzzle number\n",
        "        for puzzle_num in range (puzzle_diversity): # Last Origin slide puzzle has 6 type of puzzle\n",
        "            res=cv.matchTemplate(frame,puzzle_piece[puzzle_num][0],piece_method) # Compare with every 2nd puzzle piece\n",
        "            min_val, max_val, min_loc, max_loc = cv.minMaxLoc(res)\n",
        "            # If puzzle piece has matching sector in frame\n",
        "            if max_val>piece_thres:\n",
        "                piece_pos.append(max_loc)\n",
        "                # If flag is given draw rectangle at template's position\n",
        "                if fbf_p_tracker_save==True:\n",
        "                    BGR,width,height = puzzle_piece[puzzle_num][0].shape[::-1]\n",
        "                    cv.rectangle(frame,max_loc,(max_loc[0]+width,max_loc[1]+height),color[0],3)\n",
        "                    cv.putText(frame,\"piece\"+str(2),(max_loc[0],max_loc[1]-10),0,1,color[0],2)        \n",
        "                break\n",
        "\n",
        "        # Track puzzle pieces\n",
        "        for piece_num in range (1,8): # Last Origin slide puzzle is 3 by 3 puzzle with 8 pieces\n",
        "            res=cv.matchTemplate(frame,puzzle_piece[puzzle_num][piece_num],piece_method)\n",
        "            min_val, max_val, min_loc, max_loc = cv.minMaxLoc(res)\n",
        "            piece_pos.append(max_loc)\n",
        "            # If flag is given draw rectangle at template's position\n",
        "            if fbf_p_tracker_save==True:\n",
        "                BGR,width,height = puzzle_piece[puzzle_num][piece_num].shape[::-1]\n",
        "                cv.rectangle(frame,max_loc,(max_loc[0]+width,max_loc[1]+height),color[piece_num],3)\n",
        "                cv.putText(frame,\"piece\"+str(piece_num+2),(max_loc[0],max_loc[1]-10),0,1,color[piece_num],2)  \n",
        "        # If flag is given, save frame with rectangles\n",
        "        if fbf_p_tracker_save==True:\n",
        "            cv.imwrite(base_dir+'frame%d track.jpg'%capture_cursor,frame)\n",
        "        capture_cursor+=1\n",
        "\n",
        "        # Use pos to figure puzzle status\n",
        "        XS=[]\n",
        "        YS=[]\n",
        "        for n in range (8):\n",
        "            x,y=piece_pos[n][0],piece_pos[n][1]\n",
        "            XS.append(x)\n",
        "            YS.append(y)\n",
        "\n",
        "        max_X, min_X = max(XS), min(XS)\n",
        "        max_Y, min_Y = max(YS), min(YS)\n",
        "\n",
        "        puzzle=np.zeros(9, dtype=int)\n",
        "        for n in range(8):\n",
        "            x=XS[n]\n",
        "            y=YS[n]\n",
        "    \n",
        "            if min_Y<=y<=min_Y+sensitivity:\n",
        "                pos=0\n",
        "            elif max_Y-sensitivity<=y<=max_Y:\n",
        "                pos=6\n",
        "            else:\n",
        "                pos=3\n",
        "\n",
        "            if min_X<=x<=min_X+sensitivity:\n",
        "                pos+=0\n",
        "            elif max_X-sensitivity<=x<=max_X:\n",
        "                pos+=2\n",
        "            else:\n",
        "                pos+=1\n",
        "            puzzle[pos]+=(n+2)\n",
        "\n",
        "        puzzle=list(puzzle)\n",
        "        puzzle[puzzle.index(0)]='B'\n",
        "        \n",
        "        pattern=str(puzzle[0])\n",
        "        for puzzle_cursor in range (1,9):\n",
        "            pattern+=str(puzzle[puzzle_cursor])\n",
        "\n",
        "        # save as puzzle number, puzzle pattern\n",
        "        sample.append([puzzle_num+1,pattern])\n",
        "        \n",
        "    # Current frame will become past frame of future frame\n",
        "    template_frame=frame"
      ],
      "execution_count": null,
      "outputs": [
        {
          "output_type": "stream",
          "text": [
            "Can't recieve frame (or stream ended)\n"
          ],
          "name": "stdout"
        }
      ]
    },
    {
      "cell_type": "code",
      "metadata": {
        "id": "jzu4XKvlJPFf",
        "colab_type": "code",
        "colab": {
          "base_uri": "https://localhost:8080/"
        },
        "outputId": "0edd4ca9-8ffe-442a-aaa9-95c26a4ff4cb"
      },
      "source": [
        "print(\"From video sample, %s sample puzzles were extracted\"%(capture_cursor-1))"
      ],
      "execution_count": null,
      "outputs": [
        {
          "output_type": "stream",
          "text": [
            "From video sample, 500 sample puzzles were extracted\n"
          ],
          "name": "stdout"
        }
      ]
    },
    {
      "cell_type": "code",
      "metadata": {
        "id": "xO_aKVifJPB8",
        "colab_type": "code",
        "colab": {}
      },
      "source": [
        "# Save result as csv\n",
        "with open (base_dir+\"samples.csv\",'w',newline='') as myfile:\n",
        "    wr=csv.writer(myfile, quoting=csv.QUOTE_ALL)\n",
        "    for cursor in range (len(sample)):\n",
        "        wr.writerow(sample[cursor])"
      ],
      "execution_count": null,
      "outputs": []
    }
  ]
}