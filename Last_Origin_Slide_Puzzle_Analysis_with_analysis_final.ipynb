{
  "nbformat": 4,
  "nbformat_minor": 0,
  "metadata": {
    "colab": {
      "name": "Last Origin Slide Puzzle Analysis with analysis final.ipynb",
      "provenance": [],
      "collapsed_sections": [],
      "include_colab_link": true
    },
    "kernelspec": {
      "name": "python3",
      "display_name": "Python 3"
    }
  },
  "cells": [
    {
      "cell_type": "markdown",
      "metadata": {
        "id": "view-in-github",
        "colab_type": "text"
      },
      "source": [
        "<a href=\"https://colab.research.google.com/github/Jang-KyungWuk/Slide_Puzzle_Analysis/blob/master/Last_Origin_Slide_Puzzle_Analysis_with_analysis_final.ipynb\" target=\"_parent\"><img src=\"https://colab.research.google.com/assets/colab-badge.svg\" alt=\"Open In Colab\"/></a>"
      ]
    },
    {
      "cell_type": "code",
      "metadata": {
        "id": "_n9p18jWhY8-",
        "colab_type": "code",
        "outputId": "e246fe9c-f0ca-498d-9e6c-2b81b79b3ea4",
        "colab": {
          "base_uri": "https://localhost:8080/",
          "height": 122
        }
      },
      "source": [
        "# Driver Mount\n",
        "# Only necessary on goole colab\n",
        "\n",
        "from google.colab import drive\n",
        "drive.mount('/content/gdrive')"
      ],
      "execution_count": 1,
      "outputs": [
        {
          "output_type": "stream",
          "text": [
            "Go to this URL in a browser: https://accounts.google.com/o/oauth2/auth?client_id=947318989803-6bn6qk8qdgf4n4g3pfee6491hc0brc4i.apps.googleusercontent.com&redirect_uri=urn%3aietf%3awg%3aoauth%3a2.0%3aoob&response_type=code&scope=email%20https%3a%2f%2fwww.googleapis.com%2fauth%2fdocs.test%20https%3a%2f%2fwww.googleapis.com%2fauth%2fdrive%20https%3a%2f%2fwww.googleapis.com%2fauth%2fdrive.photos.readonly%20https%3a%2f%2fwww.googleapis.com%2fauth%2fpeopleapi.readonly\n",
            "\n",
            "Enter your authorization code:\n",
            "··········\n",
            "Mounted at /content/gdrive\n"
          ],
          "name": "stdout"
        }
      ]
    },
    {
      "cell_type": "code",
      "metadata": {
        "id": "XO-Er5gPhZHX",
        "colab_type": "code",
        "colab": {}
      },
      "source": [
        "# Size Factor and Flag check\n",
        "row_size=3 #m\n",
        "column_size=3 #n\n",
        "\n",
        "plot_distribution_chart=True # Plot chart when enabled\n",
        "save_csv=True # Save result_db and possible_case as csv type when enabled\n",
        "load_csv=False # Load result_db and possible_case from existing csv files"
      ],
      "execution_count": 0,
      "outputs": []
    },
    {
      "cell_type": "code",
      "metadata": {
        "id": "bAnjTWhBhvzz",
        "colab_type": "code",
        "colab": {}
      },
      "source": [
        "# Import Libraries\n",
        "import copy\n",
        "import csv\n",
        "import sys\n",
        "import matplotlib.pyplot as plt\n",
        "import numpy as np"
      ],
      "execution_count": 0,
      "outputs": []
    },
    {
      "cell_type": "code",
      "metadata": {
        "id": "iSGaHIqkhvyu",
        "colab_type": "code",
        "colab": {}
      },
      "source": [
        "#Define Functions\n",
        "def Puzzle_size(m=3, n=3):\n",
        "    \"\"\"Puzzle_size(m,n)\n",
        "    Define size of puzzle\n",
        "    m : size of single row (default 3)\n",
        "    n : size of single column (default 3)\n",
        "\n",
        "    3 by 3 for example, puzzle will follow order of\n",
        "    right-side keyboard number pad\n",
        "    \"\"\"\n",
        "    piece_num=1\n",
        "    blank_piece=(m*n-(m-1))\n",
        "    result=[]\n",
        "    for cursor1 in range (n):\n",
        "        row=[]\n",
        "        for cursor2 in range (m):\n",
        "            row.append(piece_num)\n",
        "            piece_num+=1\n",
        "        result.insert(0,row)\n",
        "    result[n-1][0]=\"B\" # B stands for blank piece that used for slide\n",
        "    return result\n",
        "\n",
        "def Moveable(pos_y, pos_x):\n",
        "    \"\"\"Moveable(pos_y, pos_x)\n",
        "    Find moveable position of blank piece when position of blank piece is given\n",
        "    Blank piece's position = puzzle[pos_y][pos_x]\n",
        "    \"\"\"\n",
        "    global row_size\n",
        "    global column_size\n",
        "    result=[]\n",
        "    # Up, Left, Right, Down 4 case\n",
        "    if 0<=pos_y-1<column_size and 0<=pos_x<row_size: # Up\n",
        "        result.append((pos_y-1,pos_x))\n",
        "    if 0<=pos_y<column_size and 0<=pos_x+1<row_size: # Right\n",
        "        result.append((pos_y,pos_x+1))\n",
        "    if 0<=pos_y+1<column_size and 0<=pos_x<row_size: # Down\n",
        "        result.append((pos_y+1,pos_x))\n",
        "    if 0<=pos_y<column_size and 0<=pos_x-1<row_size: # Left\n",
        "        result.append((pos_y,pos_x-1))\n",
        "    return result"
      ],
      "execution_count": 0,
      "outputs": []
    },
    {
      "cell_type": "code",
      "metadata": {
        "id": "iq-Bf7rGhvxF",
        "colab_type": "code",
        "colab": {}
      },
      "source": [
        "# Program starts from here\n",
        "\n",
        "# Start simulating every possible state using A-Star\n",
        "if load_csv!=True:\n",
        "\n",
        "    complete=Puzzle_size(row_size, column_size) # Compeleted puzzle (starting point)\n",
        "    puzzle=[complete,column_size-1,0]\n",
        "    # current puzzle state / position of Blank / position of Blank / Mother_puzzle\n",
        "\n",
        "    possible_case=[] # Stock all of the possible cases\n",
        "    result_db=[]\n",
        "    # [ [ [puzzle_case/moter_puzzle],[...],[...]] with same # of blank move]\n",
        "\n",
        "\n",
        "    possible_case.append(puzzle[0])\n",
        "    result_db.append([[puzzle[0],\"M\"]])\n",
        "\n",
        "    most_moved_puzzles=[puzzle]\n",
        "\n",
        "\n",
        "    while len(most_moved_puzzles) !=0:\n",
        "        partial_result=[] # Puzzles with same # of blank move\n",
        "        next_most_moved_puzzles=[] # List which will be next most_moved_puzzles\n",
        "\n",
        "        # Select each puzzle state\n",
        "        for previous_state_cursor in range(len(most_moved_puzzles)):\n",
        "            selected_puzzle=copy.deepcopy(most_moved_puzzles[previous_state_cursor])\n",
        "\n",
        "            # Find puzzle's next possible states\n",
        "            possible_case_by_move=[]\n",
        "            future_blank_positions=Moveable(selected_puzzle[1],selected_puzzle[2])\n",
        "\n",
        "            # Select each next possible state and move blank piece\n",
        "            for next_blank in future_blank_positions:\n",
        "                next_puzzle=copy.deepcopy(selected_puzzle)\n",
        "                next_puzzle[0][next_puzzle[1]][next_puzzle[2]],next_puzzle[0][next_blank[0]][next_blank[1]]=next_puzzle[0][next_blank[0]][next_blank[1]],next_puzzle[0][next_puzzle[1]][next_puzzle[2]]\n",
        "                next_puzzle[1],next_puzzle[2]=next_blank[0],next_blank[1]\n",
        "\n",
        "                # Check whether its already found state or not\n",
        "                if next_puzzle[0] not in possible_case:\n",
        "                    possible_case.append(next_puzzle[0])\n",
        "                    partial_result.append([next_puzzle[0],previous_state_cursor])\n",
        "                    next_most_moved_puzzles.append(next_puzzle)\n",
        "\n",
        "        # After finding next cases are done find future state from this case\n",
        "        most_moved_puzzles=next_most_moved_puzzles\n",
        "        result_db.append(partial_result) \n",
        "\n",
        "    # Final partial result is blank so delete that\n",
        "    result_db.remove(result_db[-1])\n",
        "\n",
        "# When load_csv == True (when dataset exists)\n",
        "else:\n",
        "    csv.field_size_limit(sys.maxsize)\n",
        "\n",
        "\n",
        "    result_db=[]\n",
        "    with open('Result_DB.csv',newline='') as file:\n",
        "        reader=csv.reader(file)\n",
        "        for row1 in reader:\n",
        "            for row2 in row1:\n",
        "                result_db.append(row2)\n",
        "                \n",
        "    possible_case=[]\n",
        "    with open('Possible_case.csv',newline='') as file:\n",
        "        reader=csv.reader(file)\n",
        "        for row1 in reader:\n",
        "            for row2 in row1:\n",
        "                possible_case.append(row2)\n",
        "\n"
      ],
      "execution_count": 0,
      "outputs": []
    },
    {
      "cell_type": "code",
      "metadata": {
        "id": "A11bkASUhvuf",
        "colab_type": "code",
        "outputId": "9a232cd6-ca6f-47d3-8e27-aa9c2020d63a",
        "colab": {
          "base_uri": "https://localhost:8080/",
          "height": 51
        }
      },
      "source": [
        "# This is total possible case of given condition slide puzzle\n",
        "total_case=len(possible_case)\n",
        "\n",
        "# Print the result\n",
        "print(row_size,\"by\",column_size,\"sized slide puzzle has\",total_case,\"possible cases\")\n",
        "print(\"Most complicated case requires at least \",len(result_db)-1,\"moves\")"
      ],
      "execution_count": 6,
      "outputs": [
        {
          "output_type": "stream",
          "text": [
            "3 by 3 sized slide puzzle has 181440 possible cases\n",
            "Most complicated case requires at least  31 moves\n"
          ],
          "name": "stdout"
        }
      ]
    },
    {
      "cell_type": "code",
      "metadata": {
        "id": "tiZqMgNchvow",
        "colab_type": "code",
        "colab": {}
      },
      "source": [
        "# Save datas as csv file\n",
        "if save_csv==True:\n",
        "    with open(\"Result_DB.csv\",'w',newline='') as myfile:\n",
        "        wr=csv.writer(myfile, quoting=csv.QUOTE_ALL)\n",
        "        wr.writerow(result_db)\n",
        "    with open(\"Possible_case.csv\",'w',newline='') as myfile:\n",
        "        wr=csv.writer(myfile, quoting=csv.QUOTE_ALL)\n",
        "        wr.writerow(possible_case)"
      ],
      "execution_count": 0,
      "outputs": []
    },
    {
      "cell_type": "code",
      "metadata": {
        "id": "37foHh3ShvlU",
        "colab_type": "code",
        "outputId": "e6d6b2db-a441-4878-adbf-fec822e3ac3c",
        "colab": {
          "base_uri": "https://localhost:8080/",
          "height": 295
        }
      },
      "source": [
        "# Plotting distribution bar chart\n",
        "x=range (1,len(result_db))\n",
        "y=[]\n",
        "for moves in x:\n",
        "    y.append(len(result_db[moves]))\n",
        "\n",
        "if plot_distribution_chart==True:\n",
        "    plt.bar(x,y)\n",
        "    plt.xlabel(\"Required least movement\")\n",
        "    plt.ylabel(\"# of cases\")\n",
        "    plt.title(\"Least movement solution cases of \"+str(row_size)+\"x\"+str(column_size)+\" slide puzzle\")\n",
        "    plt.grid(True)\n",
        "    plt.show()"
      ],
      "execution_count": 8,
      "outputs": [
        {
          "output_type": "display_data",
          "data": {
            "image/png": "[encoded data removed]",
            "text/plain": [
              "<Figure size 432x288 with 1 Axes>"
            ]
          },
          "metadata": {
            "tags": [],
            "needs_background": "light"
          }
        }
      ]
    },
    {
      "cell_type": "code",
      "metadata": {
        "id": "wWgU1cnRhvhc",
        "colab_type": "code",
        "outputId": "c31504bc-616f-48be-b9a8-821150ab7262",
        "colab": {
          "base_uri": "https://localhost:8080/",
          "height": 34
        }
      },
      "source": [
        "# Average movement required\n",
        "total_moves=0\n",
        "for moves in x:\n",
        "    total_moves+=len(result_db[moves])*moves\n",
        "average_movement_required=total_moves/total_case\n",
        "print(\"Average movement required is\",average_movement_required)"
      ],
      "execution_count": 9,
      "outputs": [
        {
          "output_type": "stream",
          "text": [
            "Average movement required is 21.972398589065257\n"
          ],
          "name": "stdout"
        }
      ]
    },
    {
      "cell_type": "code",
      "metadata": {
        "id": "8oAJpNCvhvc9",
        "colab_type": "code",
        "colab": {}
      },
      "source": [
        "# Functions defined under this comment can be used for further analysis\n",
        "\n",
        "def Counter(puzzle):\n",
        "    \"\"\"Counter(puzzle)\n",
        "    input puzzle like \"789456B12\" or multiple puzzles using list\n",
        "    function will return least required movment\n",
        "    \"\"\"\n",
        "    global row_size #m\n",
        "    global column_size #n\n",
        "\n",
        "    global possible_case\n",
        "    global y\n",
        "\n",
        "    # If single case is given\n",
        "    \n",
        "    if type(puzzle)==str:\n",
        "        # make str as slide puzzle grid form\n",
        "        target=[]\n",
        "        letter_cursor=0\n",
        "        for cursor1 in range (column_size):\n",
        "            row=[]\n",
        "            for cursor2 in range (row_size):\n",
        "                try:\n",
        "                    row.append(int(puzzle[letter_cursor]))\n",
        "                except:\n",
        "                    row.append(puzzle[letter_cursor])\n",
        "                letter_cursor+=1\n",
        "            target.append(row)\n",
        "\n",
        "        # y has distribution information\n",
        "        # Find target index and because possible_case has data ordered by minimum required movement\n",
        "        # So with distribution data, target's minimum required movement can be calculated\n",
        "        case_index=possible_case.index(target)\n",
        "        cumulative_distribution=0\n",
        "        distribution_cursor=0\n",
        "        while case_index > cumulative_distribution:\n",
        "            cumulative_distribution+=y[distribution_cursor]\n",
        "            distribution_cursor+=1\n",
        "        return distribution_cursor\n",
        "    \n",
        "    # If multiple cases are given\n",
        "    # Same as single str type data are given but doing it repeatitive\n",
        "    # This feature doesn't needed\n",
        "    '''\n",
        "    else:\n",
        "        result=[]\n",
        "        for single_puzzle in puzzle:\n",
        "            # make str as slide puzzle grid form\n",
        "            target=[]\n",
        "            letter_cursor=0\n",
        "            for cursor1 in range (column_size):\n",
        "                row=[]\n",
        "                for cursor2 in range (row_size):\n",
        "                    try:\n",
        "                        row.append(int(single_puzzle[letter_cursor]))\n",
        "                    except:\n",
        "                        row.append(single_puzzle[letter_cursor])\n",
        "                    letter_cursor+=1\n",
        "                target.append(row)\n",
        "\n",
        "            # y has distribution information\n",
        "            # Find target index and because possible_case has data ordered by minimum required movement\n",
        "            # So with distribution data, target's minimum required movement can be calculated\n",
        "            case_index=possible_case.index(target)\n",
        "            cumulative_distribution=0\n",
        "            distribution_cursor=0\n",
        "            while case_index > cumulative_distribution:\n",
        "                cumulative_distribution+=y[distribution_cursor]\n",
        "                distribution_cursor+=1\n",
        "            result.append(distribution_cursor)\n",
        "        return result\n",
        "    '''\n",
        "            \n",
        "\n",
        "def Path_finder(puzzle):\n",
        "    \"\"\"Path_finder(puzzle)\n",
        "    input puzzle like \"789456B12\"\n",
        "    will return cases that will lead to complete puzzle\n",
        "    \"\"\"\n",
        "    # Get parameters and result from outside of function\n",
        "    global row_size #m\n",
        "    global column_size #n\n",
        "\n",
        "    global possible_case\n",
        "    global y\n",
        "\n",
        "    global result_db\n",
        "    \n",
        "    # make str as slide puzzle grid form\n",
        "    target=[]\n",
        "    letter_cursor=0\n",
        "    for cursor1 in range (column_size):\n",
        "        row=[]\n",
        "        for cursor2 in range (row_size):\n",
        "            try:\n",
        "                row.append(int(puzzle[letter_cursor]))\n",
        "            except:\n",
        "                row.append(puzzle[letter_cursor])\n",
        "            letter_cursor+=1\n",
        "        target.append(row)\n",
        "\n",
        "    \n",
        "    case_index=possible_case.index(target)\n",
        "    \n",
        "    cumulative_distribution=0\n",
        "    distribution_cursor=0\n",
        "\n",
        "    # If only it is not 0 which means if given puzzle is not completed puzzle\n",
        "    if case_index!=0:\n",
        "        \n",
        "        # case_index = 1 (Solved puzzle) + y[0] + y[1] + ... + y[n] + coordinate\n",
        "        # While state loops until y[n+1]\n",
        "        while case_index > cumulative_distribution:\n",
        "            cumulative_distribution+=y[distribution_cursor]\n",
        "            distribution_cursor+=1\n",
        "        # y[n+1] value should not be included\n",
        "        cumulative_distribution-=y[distribution_cursor-1]\n",
        "\n",
        "        # Completed (Solved puzzle) Case\n",
        "        cumulative_distribution+=1\n",
        "\n",
        " \n",
        "    # This is cooridnate of puzzle case in result_db\n",
        "    # result_db[mother_state_dimension][mother_state_cursor]\n",
        "    mother_state_dimension=distribution_cursor\n",
        "    mother_state_cursor=case_index-cumulative_distribution # to get coordinate only\n",
        "\n",
        "    # This list will stack solution of given puzzle case\n",
        "    solution=[]\n",
        "\n",
        "    # Append puzzle step by step\n",
        "    # In result_db, each puzzle case has coordinate of their mother-case\n",
        "    # So by rewinding steps, this function can show solution\n",
        "    while mother_state_dimension>=0:\n",
        "        solution.append(result_db[mother_state_dimension][mother_state_cursor][0])\n",
        "        mother_state_cursor=result_db[mother_state_dimension][mother_state_cursor][1]\n",
        "        mother_state_dimension-=1\n",
        "    return solution"
      ],
      "execution_count": 0,
      "outputs": []
    },
    {
      "cell_type": "code",
      "metadata": {
        "id": "szYgDVfq9ohr",
        "colab_type": "code",
        "outputId": "d4fdbdbd-719f-478f-be7a-851b80680cb6",
        "colab": {
          "base_uri": "https://localhost:8080/",
          "height": 54
        }
      },
      "source": [
        "# Get samples data from in-game data\n",
        "# Data has column of puzzle number and column of puzzle pattern\n",
        "# Values have str type and utf-8-sig encoded\n",
        "# Google colab enviornment requires mounted drive\n",
        "# A Star generated puzzle and samples puzzle should have same size\n",
        "with open (\"/content/gdrive/My Drive/samples.csv\",newline='',encoding='utf-8-sig') as file:\n",
        "  reader=csv.reader(file)\n",
        "  samples=list(reader)\n",
        "print(samples)"
      ],
      "execution_count": 11,
      "outputs": [
        {
          "output_type": "stream",
          "text": [
            "[['1', '359B26478'], ['2', '8734B9265'], ['5', '4B5963728'], ['6', '83B975426'], ['3', '3594B6728'], ['6', '359B26478'], ['2', '758B93624'], ['2', 'B38495627'], ['2', '4B5963728'], ['1', '4B3958627'], ['2', 'B45923678'], ['5', '3594B6728'], ['2', '359B26478'], ['2', '465938B72'], ['4', '873495B26'], ['5', '83594B276'], ['4', '9B6358247'], ['3', '38B495627'], ['5', '783925B64'], ['3', '835B74926'], ['4', '6759B8243'], ['3', '945623B78'], ['2', '8359742B6'], ['5', 'B45923678'], ['6', '98B435267'], ['5', '6B5478923'], ['3', '8359742B6'], ['3', '43895B627'], ['2', '465938B72'], ['1', '938465B27'], ['4', '39B256478'], ['2', '945623B78'], ['3', '6759B8243'], ['3', '7839256B4'], ['1', '65847392B'], ['3', '45392867B'], ['2', '4659387B2'], ['6', 'B38495627'], ['5', '945B63728'], ['5', '8B5937426'], ['3', '83597B426'], ['6', '98543726B'], ['5', '359B26478'], ['5', '873495B26'], ['2', '73984B265'], ['4', '83594B276'], ['3', '65847B923'], ['6', '83B725964'], ['6', '3859B7462'], ['6', '8734B9265'], ['1', 'B38495627'], ['6', '945B63728'], ['1', '38596B427'], ['6', 'B73849265'], ['2', '39B256478'], ['4', '8357B4926'], ['1', '83594B276'], ['1', '4B3958627'], ['2', '83594627B'], ['1', '9384B5267'], ['1', '4B3958627'], ['2', '45B923678'], ['4', '938465B27'], ['2', '938465B27'], ['6', '38B495627'], ['6', '3594B6728'], ['5', '6759482B3'], ['4', '8357B4926'], ['5', '758B93624'], ['5', '758B93624'], ['6', 'B83725964'], ['6', '87349526B'], ['1', '73984B265'], ['1', 'B85937426'], ['3', '6B5478923'], ['5', '465938B72'], ['4', '83594B276'], ['1', '359426B78'], ['2', '78395B624'], ['6', '783925B64']]\n"
          ],
          "name": "stdout"
        }
      ]
    },
    {
      "cell_type": "code",
      "metadata": {
        "id": "eHkjdq1H9ocC",
        "colab_type": "code",
        "outputId": "919c4bef-d0ae-4eab-9b49-fc6b99484282",
        "colab": {
          "base_uri": "https://localhost:8080/",
          "height": 34
        }
      },
      "source": [
        "# Check samples length (80)\n",
        "len(samples)"
      ],
      "execution_count": 12,
      "outputs": [
        {
          "output_type": "execute_result",
          "data": {
            "text/plain": [
              "80"
            ]
          },
          "metadata": {
            "tags": []
          },
          "execution_count": 12
        }
      ]
    },
    {
      "cell_type": "code",
      "metadata": {
        "id": "XC9eVdQw9oPi",
        "colab_type": "code",
        "colab": {}
      },
      "source": [
        "# Distribute puzzle number column and puzzle type column\n",
        "samples_num=[]\n",
        "samples_type=[]\n",
        "for n in range (len(samples)):\n",
        "  samples_num.append(samples[n][0])\n",
        "  samples_type.append(samples[n][1])"
      ],
      "execution_count": 0,
      "outputs": []
    },
    {
      "cell_type": "code",
      "metadata": {
        "id": "WAykYJwm9oFu",
        "colab_type": "code",
        "colab": {}
      },
      "source": [
        "puzzle_num_count=len(set(samples_num)) # Last Origin's case = 6"
      ],
      "execution_count": 0,
      "outputs": []
    },
    {
      "cell_type": "code",
      "metadata": {
        "id": "ltLA0WGt9n6a",
        "colab_type": "code",
        "outputId": "24b2d899-2dd3-41ed-d218-ae4b71c30119",
        "colab": {
          "base_uri": "https://localhost:8080/",
          "height": 310
        }
      },
      "source": [
        "# Puzzle appearance freequency (ratio) by puzzle number\n",
        "\n",
        "puzzle_frequency_x=range(1,puzzle_num_count+1) # Last origin has 6 type of puzzle\n",
        "puzzle_frequency_y=[]\n",
        "\n",
        "for puzzle_num in (puzzle_frequency_x):\n",
        "  puzzle_frequency_y.append(samples_num.count(str(puzzle_num)))\n",
        "\n",
        "plt.bar(puzzle_frequency_x,puzzle_frequency_y)\n",
        "plt.xlabel(\"Puzzle number\")\n",
        "plt.ylabel(\"Appearance\")\n",
        "plt.title(\"Puzzle appearance frequency by puzzle number\\n(80 samples, 6 type of puzzle)\")\n",
        "plt.show()"
      ],
      "execution_count": 15,
      "outputs": [
        {
          "output_type": "display_data",
          "data": {
            "image/png": "[encoded data removed]",
            "text/plain": [
              "<Figure size 432x288 with 1 Axes>"
            ]
          },
          "metadata": {
            "tags": [],
            "needs_background": "light"
          }
        }
      ]
    },
    {
      "cell_type": "code",
      "metadata": {
        "id": "w0WxmkC99n09",
        "colab_type": "code",
        "outputId": "4733c83d-459f-4be5-db21-3f43840115ce",
        "colab": {
          "base_uri": "https://localhost:8080/",
          "height": 34
        }
      },
      "source": [
        "# Checking all puzzles are classified\n",
        "sum(puzzle_frequency_y)"
      ],
      "execution_count": 16,
      "outputs": [
        {
          "output_type": "execute_result",
          "data": {
            "text/plain": [
              "80"
            ]
          },
          "metadata": {
            "tags": []
          },
          "execution_count": 16
        }
      ]
    },
    {
      "cell_type": "code",
      "metadata": {
        "id": "apoYMVB09nnI",
        "colab_type": "code",
        "outputId": "8d4043e0-c6e2-450c-b2d5-2fbf94b8e444",
        "colab": {
          "base_uri": "https://localhost:8080/",
          "height": 295
        }
      },
      "source": [
        "# Puzzle appearance frequency (ratio) by puzzle pattern (shuffled puzzle)\n",
        "pattern_type_x=[]\n",
        "pattern_type_y=[]\n",
        "for puzzle_pattern in range(len(samples_type)):\n",
        "  if samples_type[puzzle_pattern] not in pattern_type_x:\n",
        "    pattern_type_x.append(samples_type[puzzle_pattern])\n",
        "    pattern_type_y.append(samples_type.count(samples_type[puzzle_pattern]))\n",
        "\n",
        "print(\"Observed pattern types are\",len(pattern_type_x),\"patterns\")\n",
        "\n",
        "plt.bar(pattern_type_x,pattern_type_y)\n",
        "plt.gca().axes.get_xaxis().set_ticks([])\n",
        "plt.xlabel(\"Puzzle pattern\")\n",
        "plt.ylabel(\"Appearance\")\n",
        "plt.title(\"Puzzle appearance frequency by puzzle pattern\")\n",
        "plt.show()"
      ],
      "execution_count": 17,
      "outputs": [
        {
          "output_type": "stream",
          "text": [
            "Observed pattern types are 48 patterns\n"
          ],
          "name": "stdout"
        },
        {
          "output_type": "display_data",
          "data": {
            "image/png": "[encoded data removed]",
            "text/plain": [
              "<Figure size 432x288 with 1 Axes>"
            ]
          },
          "metadata": {
            "tags": [],
            "needs_background": "light"
          }
        }
      ]
    },
    {
      "cell_type": "code",
      "metadata": {
        "id": "gjnWKNLh9nbW",
        "colab_type": "code",
        "outputId": "c524f614-2171-4290-f5e1-154f3c8ae1b6",
        "colab": {
          "base_uri": "https://localhost:8080/",
          "height": 295
        }
      },
      "source": [
        "# Show each patterns required minimum movement to clear puzzle\n",
        "\n",
        "pattern_clear_y=[]\n",
        "for pattern in pattern_type_x:\n",
        "  pattern_clear_y.append(Counter(pattern))\n",
        "plt.bar(pattern_type_x,pattern_clear_y)\n",
        "plt.gca().axes.get_xaxis().set_ticks([])\n",
        "plt.xlabel(\"Puzzle pattern\")\n",
        "plt.ylabel(\"Required minimum movement\")\n",
        "plt.title(\"Required movement by puzzle pattern\")\n",
        "plt.show()\n",
        "\n",
        "print(\"Average minimum required movement is\",np.average(pattern_clear_y))"
      ],
      "execution_count": 18,
      "outputs": [
        {
          "output_type": "display_data",
          "data": {
            "image/png": "[encoded data removed]",
            "text/plain": [
              "<Figure size 432x288 with 1 Axes>"
            ]
          },
          "metadata": {
            "tags": [],
            "needs_background": "light"
          }
        },
        {
          "output_type": "stream",
          "text": [
            "Average minimum required movement is 22.208333333333332\n"
          ],
          "name": "stdout"
        }
      ]
    },
    {
      "cell_type": "code",
      "metadata": {
        "id": "9PTYDmeE_OQZ",
        "colab_type": "code",
        "outputId": "949a479b-1321-4d40-d79f-0124c25f66ba",
        "colab": {
          "base_uri": "https://localhost:8080/",
          "height": 295
        }
      },
      "source": [
        "# Show pattern ratio by required minimum movement\n",
        "pattern_clear_frequency_y=[]\n",
        "pattern_clear_frequency_x=range(min(pattern_clear_y),max(pattern_clear_y)+1)\n",
        "\n",
        "for minimum_movement in pattern_clear_frequency_x:\n",
        "  pattern_clear_frequency_y.append(pattern_clear_y.count(minimum_movement))\n",
        "plt.bar(pattern_clear_frequency_x,pattern_clear_frequency_y)\n",
        "plt.xlabel(\"Minimum clear movement\")\n",
        "plt.ylabel(\"Amount of Pattern\")\n",
        "plt.title(\"Each minimum clear movement's pattern types\")\n",
        "plt.show()"
      ],
      "execution_count": 19,
      "outputs": [
        {
          "output_type": "display_data",
          "data": {
            "image/png": "[encoded data removed]",
            "text/plain": [
              "<Figure size 432x288 with 1 Axes>"
            ]
          },
          "metadata": {
            "tags": [],
            "needs_background": "light"
          }
        }
      ]
    },
    {
      "cell_type": "code",
      "metadata": {
        "id": "N2cVGMxP_sqY",
        "colab_type": "code",
        "outputId": "1e1395af-b5ba-4331-b09d-44f77b1af6a1",
        "colab": {
          "base_uri": "https://localhost:8080/",
          "height": 34
        }
      },
      "source": [
        "# With each patterns appearance probability, calculate average required minimum movement in last origin slide puzzle\n",
        "total_required_minimum_movement=0\n",
        "for cursor in range (len(pattern_type_y)):\n",
        "  total_required_minimum_movement+=(pattern_type_y[cursor]*pattern_clear_y[cursor])\n",
        "last_origin_average_required_minimum_movement=total_required_minimum_movement/len(samples)\n",
        "print(\"Last Origin slide puzzle's average required minimum movement is\",last_origin_average_required_minimum_movement)\n"
      ],
      "execution_count": 20,
      "outputs": [
        {
          "output_type": "stream",
          "text": [
            "Last Origin slide puzzle's average required minimum movement is 22.4625\n"
          ],
          "name": "stdout"
        }
      ]
    },
    {
      "cell_type": "code",
      "metadata": {
        "id": "KWHPCN-v9m3t",
        "colab_type": "code",
        "colab": {}
      },
      "source": [
        "# Classifiy puzzles by puzzle number\n",
        "\n",
        "pattern_classified=[[],[],[],[],[],[]]\n",
        "\n",
        "for cursor in range (len(samples)):\n",
        "    pattern_classified[int(samples[cursor][0])-1].append(samples[cursor][1])"
      ],
      "execution_count": 0,
      "outputs": []
    },
    {
      "cell_type": "code",
      "metadata": {
        "id": "a-o2F0XW_1_o",
        "colab_type": "code",
        "outputId": "d4e98760-d1b8-4cac-bd20-16f71089785b",
        "colab": {
          "base_uri": "https://localhost:8080/",
          "height": 397
        }
      },
      "source": [
        "# Print each puzzle numbers variety of pattern types\n",
        "pattern_count=[]\n",
        "for puzzle_number in range (0,puzzle_num_count):\n",
        "    pattern_count.append(len(set(pattern_classified[puzzle_number])))\n",
        "    print(\"Puzzle\",puzzle_number+1,\"has\",pattern_count[puzzle_number],\"patterns\")\n",
        "\n",
        "plt.bar(range(1,puzzle_num_count+1),pattern_count)\n",
        "plt.xlabel(\"puzzle number\")\n",
        "plt.ylabel(\"puzzle pattern variety\")\n",
        "plt.title(\"Puzzle pattern variety by puzzle number\")\n",
        "plt.show()"
      ],
      "execution_count": 22,
      "outputs": [
        {
          "output_type": "stream",
          "text": [
            "Puzzle 1 has 11 patterns\n",
            "Puzzle 2 has 16 patterns\n",
            "Puzzle 3 has 12 patterns\n",
            "Puzzle 4 has 7 patterns\n",
            "Puzzle 5 has 13 patterns\n",
            "Puzzle 6 has 15 patterns\n"
          ],
          "name": "stdout"
        },
        {
          "output_type": "display_data",
          "data": {
            "image/png": "[encoded data removed]",
            "text/plain": [
              "<Figure size 432x288 with 1 Axes>"
            ]
          },
          "metadata": {
            "tags": [],
            "needs_background": "light"
          }
        }
      ]
    },
    {
      "cell_type": "code",
      "metadata": {
        "id": "94WL-iUuALtV",
        "colab_type": "code",
        "outputId": "50415150-9975-4a84-f665-0f8cbc601b8d",
        "colab": {
          "base_uri": "https://localhost:8080/",
          "height": 153
        }
      },
      "source": [
        "# Similarity Matrix\n",
        "\n",
        "similarity_matrix=[]\n",
        "for cursor_select in range (puzzle_num_count):\n",
        "    similarity_row=[]\n",
        "    for cursor_compare in range (puzzle_num_count):\n",
        "        similarity_row.append(len(set(pattern_classified[cursor_select])&set(pattern_classified[cursor_compare])))\n",
        "    similarity_matrix.append(similarity_row)\n",
        "\n",
        "print(\"Similarity Matrix \\n\")\n",
        "print(np.array(similarity_matrix))"
      ],
      "execution_count": 23,
      "outputs": [
        {
          "output_type": "stream",
          "text": [
            "Similarity Matrix \n",
            "\n",
            "[[11  4  0  2  2  2]\n",
            " [ 4 16  2  2  5  3]\n",
            " [ 0  2 12  1  2  2]\n",
            " [ 2  2  1  7  2  0]\n",
            " [ 2  5  2  2 13  4]\n",
            " [ 2  3  2  0  4 15]]\n"
          ],
          "name": "stdout"
        }
      ]
    },
    {
      "cell_type": "code",
      "metadata": {
        "id": "yjl_smk_6u8y",
        "colab_type": "code",
        "outputId": "205ab24a-c520-45d1-ad83-0718b8b54de4",
        "colab": {
          "base_uri": "https://localhost:8080/",
          "height": 54
        }
      },
      "source": [
        "# Check most complicated puzzle clear\n",
        "\n",
        "most_complicated=Path_finder(pattern_type_x[pattern_clear_y.index(max(pattern_clear_y))])\n",
        "print(most_complicated)"
      ],
      "execution_count": 24,
      "outputs": [
        {
          "output_type": "stream",
          "text": [
            "[[[9, 'B', 6], [3, 5, 8], [2, 4, 7]], [[9, 5, 6], [3, 'B', 8], [2, 4, 7]], [[9, 5, 6], ['B', 3, 8], [2, 4, 7]], [[9, 5, 6], [2, 3, 8], ['B', 4, 7]], [[9, 5, 6], [2, 3, 8], [4, 'B', 7]], [[9, 5, 6], [2, 'B', 8], [4, 3, 7]], [[9, 5, 6], ['B', 2, 8], [4, 3, 7]], [['B', 5, 6], [9, 2, 8], [4, 3, 7]], [[5, 'B', 6], [9, 2, 8], [4, 3, 7]], [[5, 6, 'B'], [9, 2, 8], [4, 3, 7]], [[5, 6, 8], [9, 2, 'B'], [4, 3, 7]], [[5, 6, 8], [9, 2, 7], [4, 3, 'B']], [[5, 6, 8], [9, 2, 7], [4, 'B', 3]], [[5, 6, 8], [9, 'B', 7], [4, 2, 3]], [[5, 6, 8], [9, 7, 'B'], [4, 2, 3]], [[5, 6, 'B'], [9, 7, 8], [4, 2, 3]], [[5, 'B', 6], [9, 7, 8], [4, 2, 3]], [[5, 7, 6], [9, 'B', 8], [4, 2, 3]], [[5, 7, 6], ['B', 9, 8], [4, 2, 3]], [['B', 7, 6], [5, 9, 8], [4, 2, 3]], [[7, 'B', 6], [5, 9, 8], [4, 2, 3]], [[7, 9, 6], [5, 'B', 8], [4, 2, 3]], [[7, 9, 6], [5, 8, 'B'], [4, 2, 3]], [[7, 9, 'B'], [5, 8, 6], [4, 2, 3]], [[7, 'B', 9], [5, 8, 6], [4, 2, 3]], [[7, 8, 9], [5, 'B', 6], [4, 2, 3]], [[7, 8, 9], ['B', 5, 6], [4, 2, 3]], [[7, 8, 9], [4, 5, 6], ['B', 2, 3]]]\n"
          ],
          "name": "stdout"
        }
      ]
    },
    {
      "cell_type": "code",
      "metadata": {
        "id": "a2Itf8ic6-rC",
        "colab_type": "code",
        "outputId": "7b09d751-91a8-4e2b-b9f9-5e1dfdc7d934",
        "colab": {
          "base_uri": "https://localhost:8080/",
          "height": 1000
        }
      },
      "source": [
        "# Print as np.array for visability\n",
        "\n",
        "for puzzle in range(len(most_complicated)):\n",
        "  print(\"Step\",puzzle)\n",
        "  print(np.array(most_complicated[puzzle]),\"\\n\")"
      ],
      "execution_count": 25,
      "outputs": [
        {
          "output_type": "stream",
          "text": [
            "Step 0\n",
            "[['9' 'B' '6']\n",
            " ['3' '5' '8']\n",
            " ['2' '4' '7']] \n",
            "\n",
            "Step 1\n",
            "[['9' '5' '6']\n",
            " ['3' 'B' '8']\n",
            " ['2' '4' '7']] \n",
            "\n",
            "Step 2\n",
            "[['9' '5' '6']\n",
            " ['B' '3' '8']\n",
            " ['2' '4' '7']] \n",
            "\n",
            "Step 3\n",
            "[['9' '5' '6']\n",
            " ['2' '3' '8']\n",
            " ['B' '4' '7']] \n",
            "\n",
            "Step 4\n",
            "[['9' '5' '6']\n",
            " ['2' '3' '8']\n",
            " ['4' 'B' '7']] \n",
            "\n",
            "Step 5\n",
            "[['9' '5' '6']\n",
            " ['2' 'B' '8']\n",
            " ['4' '3' '7']] \n",
            "\n",
            "Step 6\n",
            "[['9' '5' '6']\n",
            " ['B' '2' '8']\n",
            " ['4' '3' '7']] \n",
            "\n",
            "Step 7\n",
            "[['B' '5' '6']\n",
            " ['9' '2' '8']\n",
            " ['4' '3' '7']] \n",
            "\n",
            "Step 8\n",
            "[['5' 'B' '6']\n",
            " ['9' '2' '8']\n",
            " ['4' '3' '7']] \n",
            "\n",
            "Step 9\n",
            "[['5' '6' 'B']\n",
            " ['9' '2' '8']\n",
            " ['4' '3' '7']] \n",
            "\n",
            "Step 10\n",
            "[['5' '6' '8']\n",
            " ['9' '2' 'B']\n",
            " ['4' '3' '7']] \n",
            "\n",
            "Step 11\n",
            "[['5' '6' '8']\n",
            " ['9' '2' '7']\n",
            " ['4' '3' 'B']] \n",
            "\n",
            "Step 12\n",
            "[['5' '6' '8']\n",
            " ['9' '2' '7']\n",
            " ['4' 'B' '3']] \n",
            "\n",
            "Step 13\n",
            "[['5' '6' '8']\n",
            " ['9' 'B' '7']\n",
            " ['4' '2' '3']] \n",
            "\n",
            "Step 14\n",
            "[['5' '6' '8']\n",
            " ['9' '7' 'B']\n",
            " ['4' '2' '3']] \n",
            "\n",
            "Step 15\n",
            "[['5' '6' 'B']\n",
            " ['9' '7' '8']\n",
            " ['4' '2' '3']] \n",
            "\n",
            "Step 16\n",
            "[['5' 'B' '6']\n",
            " ['9' '7' '8']\n",
            " ['4' '2' '3']] \n",
            "\n",
            "Step 17\n",
            "[['5' '7' '6']\n",
            " ['9' 'B' '8']\n",
            " ['4' '2' '3']] \n",
            "\n",
            "Step 18\n",
            "[['5' '7' '6']\n",
            " ['B' '9' '8']\n",
            " ['4' '2' '3']] \n",
            "\n",
            "Step 19\n",
            "[['B' '7' '6']\n",
            " ['5' '9' '8']\n",
            " ['4' '2' '3']] \n",
            "\n",
            "Step 20\n",
            "[['7' 'B' '6']\n",
            " ['5' '9' '8']\n",
            " ['4' '2' '3']] \n",
            "\n",
            "Step 21\n",
            "[['7' '9' '6']\n",
            " ['5' 'B' '8']\n",
            " ['4' '2' '3']] \n",
            "\n",
            "Step 22\n",
            "[['7' '9' '6']\n",
            " ['5' '8' 'B']\n",
            " ['4' '2' '3']] \n",
            "\n",
            "Step 23\n",
            "[['7' '9' 'B']\n",
            " ['5' '8' '6']\n",
            " ['4' '2' '3']] \n",
            "\n",
            "Step 24\n",
            "[['7' 'B' '9']\n",
            " ['5' '8' '6']\n",
            " ['4' '2' '3']] \n",
            "\n",
            "Step 25\n",
            "[['7' '8' '9']\n",
            " ['5' 'B' '6']\n",
            " ['4' '2' '3']] \n",
            "\n",
            "Step 26\n",
            "[['7' '8' '9']\n",
            " ['B' '5' '6']\n",
            " ['4' '2' '3']] \n",
            "\n",
            "Step 27\n",
            "[['7' '8' '9']\n",
            " ['4' '5' '6']\n",
            " ['B' '2' '3']] \n",
            "\n"
          ],
          "name": "stdout"
        }
      ]
    },
    {
      "cell_type": "code",
      "metadata": {
        "id": "KP2HHBDv7o4_",
        "colab_type": "code",
        "colab": {}
      },
      "source": [
        ""
      ],
      "execution_count": 0,
      "outputs": []
    }
  ]
}