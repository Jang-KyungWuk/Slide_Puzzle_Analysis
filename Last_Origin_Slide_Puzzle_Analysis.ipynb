{
  "nbformat": 4,
  "nbformat_minor": 0,
  "metadata": {
    "colab": {
      "name": "Last Origin Slide Puzzle Analysis.ipynb",
      "provenance": [],
      "authorship_tag": "ABX9TyNOhO9mKLse8tQ2uMV0O9KK",
      "include_colab_link": true
    },
    "kernelspec": {
      "name": "python3",
      "display_name": "Python 3"
    }
  },
  "cells": [
    {
      "cell_type": "markdown",
      "metadata": {
        "id": "view-in-github",
        "colab_type": "text"
      },
      "source": [
        "<a href=\"https://colab.research.google.com/github/Jang-KyungWuk/Slide_Puzzle_Analysis/blob/master/Last_Origin_Slide_Puzzle_Analysis.ipynb\" target=\"_parent\"><img src=\"https://colab.research.google.com/assets/colab-badge.svg\" alt=\"Open In Colab\"/></a>"
      ]
    },
    {
      "cell_type": "code",
      "metadata": {
        "id": "7H5OKmEfE2VR",
        "colab_type": "code",
        "colab": {
          "base_uri": "https://localhost:8080/",
          "height": 122
        },
        "outputId": "4553b28a-f3b0-4c65-e66e-d2676cd223e7"
      },
      "source": [
        "from google.colab import drive\n",
        "drive.mount('/content/gdrive')"
      ],
      "execution_count": null,
      "outputs": [
        {
          "output_type": "stream",
          "text": [
            "Go to this URL in a browser: https://accounts.google.com/o/oauth2/auth?client_id=947318989803-6bn6qk8qdgf4n4g3pfee6491hc0brc4i.apps.googleusercontent.com&redirect_uri=urn%3aietf%3awg%3aoauth%3a2.0%3aoob&response_type=code&scope=email%20https%3a%2f%2fwww.googleapis.com%2fauth%2fdocs.test%20https%3a%2f%2fwww.googleapis.com%2fauth%2fdrive%20https%3a%2f%2fwww.googleapis.com%2fauth%2fdrive.photos.readonly%20https%3a%2f%2fwww.googleapis.com%2fauth%2fpeopleapi.readonly\n",
            "\n",
            "Enter your authorization code:\n",
            "··········\n",
            "Mounted at /content/gdrive\n"
          ],
          "name": "stdout"
        }
      ]
    },
    {
      "cell_type": "code",
      "metadata": {
        "id": "5AMMB4SmHSrE",
        "colab_type": "code",
        "colab": {}
      },
      "source": [
        "base_dir='/content/gdrive/My Drive/'"
      ],
      "execution_count": null,
      "outputs": []
    },
    {
      "cell_type": "code",
      "metadata": {
        "id": "YjdtxnhjFMMl",
        "colab_type": "code",
        "colab": {}
      },
      "source": [
        "# Size Factor and Flag check\n",
        "row_size=3 #m\n",
        "column_size=3 #n\n",
        "\n",
        "plot_distribution_chart=True # Plot chart when enabled\n",
        "save_csv=False # Save result_db and possible_case as csv type when enabled\n",
        "load_csv=True # Load result_db and possible_case from existing csv files"
      ],
      "execution_count": null,
      "outputs": []
    },
    {
      "cell_type": "code",
      "metadata": {
        "id": "cKDOaYRoFSkw",
        "colab_type": "code",
        "colab": {}
      },
      "source": [
        "# Import Libraries\n",
        "import copy\n",
        "import csv\n",
        "import sys\n",
        "import matplotlib.pyplot as plt\n",
        "import numpy as np"
      ],
      "execution_count": null,
      "outputs": []
    },
    {
      "cell_type": "code",
      "metadata": {
        "id": "t-SmiVJYFSiw",
        "colab_type": "code",
        "colab": {}
      },
      "source": [
        "#Define Functions\n",
        "def Puzzle_size(m=3, n=3):\n",
        "    \"\"\"Puzzle_size(m,n)\n",
        "    Define size of puzzle\n",
        "    m : size of single row (default 3)\n",
        "    n : size of single column (default 3)\n",
        "\n",
        "    3 by 3 for example, puzzle will follow order of\n",
        "    right-side keyboard number pad\n",
        "    \"\"\"\n",
        "    piece_num=1\n",
        "    result=[]\n",
        "    for cursor1 in range (n):\n",
        "        row=[]\n",
        "        for cursor2 in range (m):\n",
        "            row.append(piece_num)\n",
        "            piece_num+=1\n",
        "        result.insert(0,row)\n",
        "    result[n-1][0]=\"B\" # B stands for blank piece that used for slide\n",
        "    return result\n",
        "\n",
        "def Moveable(pos_y, pos_x):\n",
        "    \"\"\"Moveable(pos_y, pos_x)\n",
        "    Find moveable position of blank piece when position of blank piece is given\n",
        "    Blank piece's position = puzzle[pos_y][pos_x]\n",
        "    \"\"\"\n",
        "    global row_size\n",
        "    global column_size\n",
        "    result=[]\n",
        "    # Up, Left, Right, Down 4 case\n",
        "    if 0<=pos_y-1<column_size and 0<=pos_x<row_size: # Up\n",
        "        result.append((pos_y-1,pos_x))\n",
        "    if 0<=pos_y<column_size and 0<=pos_x+1<row_size: # Right\n",
        "        result.append((pos_y,pos_x+1))\n",
        "    if 0<=pos_y+1<column_size and 0<=pos_x<row_size: # Down\n",
        "        result.append((pos_y+1,pos_x))\n",
        "    if 0<=pos_y<column_size and 0<=pos_x-1<row_size: # Left\n",
        "        result.append((pos_y,pos_x-1))\n",
        "    return result"
      ],
      "execution_count": null,
      "outputs": []
    },
    {
      "cell_type": "code",
      "metadata": {
        "id": "N-DoInZWFSf1",
        "colab_type": "code",
        "colab": {}
      },
      "source": [
        "# Program starts from here\n",
        "\n",
        "# Start simulating every possible state using A-Star\n",
        "if load_csv!=True:\n",
        "\n",
        "    complete=Puzzle_size(row_size, column_size) # Compeleted puzzle (starting point)\n",
        "    puzzle=[complete,column_size-1,0]\n",
        "    # current puzzle state / position of Blank / position of Blank / Mother_puzzle\n",
        "\n",
        "    possible_case=[] # Stock all of the possible cases\n",
        "    result_db=[]\n",
        "    # [ [ [puzzle_case/moter_puzzle],[...],[...]] with same # of blank move]\n",
        "\n",
        "\n",
        "    possible_case.append(puzzle[0])\n",
        "    result_db.append([[puzzle[0],\"M\"]])\n",
        "\n",
        "    most_moved_puzzles=[puzzle]\n",
        "\n",
        "\n",
        "    while len(most_moved_puzzles) !=0:\n",
        "        partial_result=[] # Puzzles with same # of blank move\n",
        "        next_most_moved_puzzles=[] # List which will be next most_moved_puzzles\n",
        "\n",
        "        # Select each puzzle state\n",
        "        for previous_state_cursor in range(len(most_moved_puzzles)):\n",
        "            selected_puzzle=copy.deepcopy(most_moved_puzzles[previous_state_cursor])\n",
        "\n",
        "            # Find puzzle's next possible states\n",
        "            possible_case_by_move=[]\n",
        "            future_blank_positions=Moveable(selected_puzzle[1],selected_puzzle[2])\n",
        "\n",
        "            # Select each next possible state and move blank piece\n",
        "            for next_blank in future_blank_positions:\n",
        "                next_puzzle=copy.deepcopy(selected_puzzle)\n",
        "                next_puzzle[0][next_puzzle[1]][next_puzzle[2]],next_puzzle[0][next_blank[0]][next_blank[1]]=next_puzzle[0][next_blank[0]][next_blank[1]],next_puzzle[0][next_puzzle[1]][next_puzzle[2]]\n",
        "                next_puzzle[1],next_puzzle[2]=next_blank[0],next_blank[1]\n",
        "\n",
        "                # Check whether its already found state or not\n",
        "                if next_puzzle[0] not in possible_case:\n",
        "                    possible_case.append(next_puzzle[0])\n",
        "                    partial_result.append([next_puzzle[0],previous_state_cursor])\n",
        "                    next_most_moved_puzzles.append(next_puzzle)\n",
        "\n",
        "        # After finding next cases are done find future state from this case\n",
        "        most_moved_puzzles=next_most_moved_puzzles\n",
        "        result_db.append(partial_result) \n",
        "\n",
        "    # Final partial result is blank so delete that\n",
        "    result_db.remove(result_db[-1])\n",
        "\n",
        "# When load_csv == True (when dataset exists)\n",
        "else:\n",
        "    csv.field_size_limit(sys.maxsize)\n",
        "\n",
        "    result_db=[]\n",
        "    with open(base_dir+'Result_DB.csv',newline='') as file:\n",
        "        reader=csv.reader(file)\n",
        "        for row1 in reader:\n",
        "            for row2 in row1:\n",
        "                result_db.append(row2)\n",
        "                \n",
        "    possible_case=[]\n",
        "    with open(base_dir+'Possible_case.csv',newline='') as file:\n",
        "        reader=csv.reader(file)\n",
        "        for row1 in reader:\n",
        "            for row2 in row1:\n",
        "                possible_case.append(row2)\n",
        "\n",
        "    \n",
        "    # Resurrect list in list structure\n",
        "    result_db_res=[]\n",
        "    possible_case_res=[]\n",
        "\n",
        "    res_counter_limit=(row_size*column_size)+1\n",
        "\n",
        "    # Resurrect result_db\n",
        "    for step in range (len(result_db)):\n",
        "        step_layer=[]\n",
        "        db_layer=result_db[step]\n",
        "\n",
        "        package=[]\n",
        "        res_counter=0\n",
        "        continuity=0\n",
        "\n",
        "        for letter in db_layer:\n",
        "            if letter not in ([' ',',','[',']',\"'\"]):\n",
        "                package.append(letter)\n",
        "                res_counter+=1\n",
        "                continuity+=1\n",
        "\n",
        "                if continuity>1:\n",
        "                    package[-1]=package[-2]+package.pop(-1)\n",
        "                    res_counter-=1\n",
        "            else:\n",
        "                continuity=0\n",
        "\n",
        "            if res_counter==res_counter_limit and continuity==0:\n",
        "\n",
        "                package_cursor=0\n",
        "                structure=[]\n",
        "                puzzle_grid=[]\n",
        "                for column_cursor in range (column_size):\n",
        "                    row=[]\n",
        "                    for row_cursor in range (row_size):\n",
        "                        try:\n",
        "                            row.append(int(package[package_cursor]))\n",
        "                        except:\n",
        "                            row.append(package[package_cursor])\n",
        "                        package_cursor+=1\n",
        "                    puzzle_grid.append(row)\n",
        "                        \n",
        "                structure.append(puzzle_grid)\n",
        "                try:\n",
        "                    structure.append(int(package[package_cursor]))\n",
        "                except:\n",
        "                    structure.append(package[package_cursor])\n",
        "\n",
        "                step_layer.append(structure)\n",
        "\n",
        "                package=[]\n",
        "                res_counter=0\n",
        "\n",
        "        result_db_res.append(step_layer)\n",
        "    result_db=result_db_res\n",
        "\n",
        "    #Resurrect possible_case\n",
        "    for str_puzzle in possible_case:\n",
        "        package=[]\n",
        "        for letter in str_puzzle:\n",
        "            if letter not in ([' ',',','[',']',\"'\"]):\n",
        "                package.append(letter)\n",
        "\n",
        "        package_cursor=0\n",
        "        puzzle_grid=[]\n",
        "        for column_cursor in range (column_size):\n",
        "            row=[]\n",
        "            for row_cursor in range (row_size):\n",
        "                try:\n",
        "                    row.append(int(package[package_cursor]))\n",
        "                except:\n",
        "                    row.append(package[package_cursor])\n",
        "                package_cursor+=1\n",
        "            puzzle_grid.append(row)\n",
        "        possible_case_res.append(puzzle_grid)\n",
        "\n",
        "    possible_case=possible_case_res"
      ],
      "execution_count": null,
      "outputs": []
    },
    {
      "cell_type": "markdown",
      "metadata": {
        "id": "Jxy3yoGUISds",
        "colab_type": "text"
      },
      "source": [
        "# 새 섹션"
      ]
    },
    {
      "cell_type": "code",
      "metadata": {
        "id": "1AuelmixFSc4",
        "colab_type": "code",
        "colab": {
          "base_uri": "https://localhost:8080/",
          "height": 51
        },
        "outputId": "4c960289-5a72-4392-e4cb-7662e9f6f2e4"
      },
      "source": [
        "# This is total possible case of given condition slide puzzle\n",
        "total_case=len(possible_case)\n",
        "\n",
        "# Print the result\n",
        "print(row_size,\"by\",column_size,\"sized slide puzzle has\",total_case,\"possible cases\")\n",
        "print(\"Most complicated case requires at least\",len(result_db)-1,\"moves\")"
      ],
      "execution_count": null,
      "outputs": [
        {
          "output_type": "stream",
          "text": [
            "3 by 3 sized slide puzzle has 181440 possible cases\n",
            "Most complicated case requires at least 31 moves\n"
          ],
          "name": "stdout"
        }
      ]
    },
    {
      "cell_type": "code",
      "metadata": {
        "id": "bIfnf725FSaT",
        "colab_type": "code",
        "colab": {}
      },
      "source": [
        "# Save datas as csv file\n",
        "if save_csv==True:\n",
        "    with open(base_dir+\"Result_DB.csv\",'w',newline='') as myfile:\n",
        "        wr=csv.writer(myfile, quoting=csv.QUOTE_ALL)\n",
        "        wr.writerow(result_db)\n",
        "    with open(base_dir+\"Possible_case.csv\",'w',newline='') as myfile:\n",
        "        wr=csv.writer(myfile, quoting=csv.QUOTE_ALL)\n",
        "        wr.writerow(possible_case)"
      ],
      "execution_count": null,
      "outputs": []
    },
    {
      "cell_type": "code",
      "metadata": {
        "id": "HZMmhq32FSX6",
        "colab_type": "code",
        "colab": {
          "base_uri": "https://localhost:8080/",
          "height": 295
        },
        "outputId": "861c6f96-81e3-49fb-c160-68041b76c660"
      },
      "source": [
        "# Plotting distribution bar chart\n",
        "x=range (1,len(result_db))\n",
        "y=[]\n",
        "for moves in x:\n",
        "    y.append(len(result_db[moves]))\n",
        "\n",
        "if plot_distribution_chart==True:\n",
        "    plt.bar(x,y)\n",
        "    plt.xlabel(\"Required least movement\")\n",
        "    plt.ylabel(\"# of cases\")\n",
        "    plt.title(\"Least movement solution cases of \"+str(row_size)+\"x\"+str(column_size)+\" slide puzzle\")\n",
        "    plt.grid(True)\n",
        "    plt.show()"
      ],
      "execution_count": null,
      "outputs": [
        {
          "output_type": "display_data",
          "data": {
            "image/png": "[encoded data removed]",
            "text/plain": [
              "<Figure size 432x288 with 1 Axes>"
            ]
          },
          "metadata": {
            "tags": [],
            "needs_background": "light"
          }
        }
      ]
    },
    {
      "cell_type": "code",
      "metadata": {
        "id": "ugg_QjEuFSVS",
        "colab_type": "code",
        "colab": {
          "base_uri": "https://localhost:8080/",
          "height": 34
        },
        "outputId": "9739e694-d13e-4aa8-96d6-b5b124bf8eea"
      },
      "source": [
        "# Average movement required\n",
        "total_moves=0\n",
        "for moves in x:\n",
        "    total_moves+=len(result_db[moves])*moves\n",
        "average_movement_required=total_moves/total_case\n",
        "print(\"Average movement required is\",average_movement_required)"
      ],
      "execution_count": null,
      "outputs": [
        {
          "output_type": "stream",
          "text": [
            "Average movement required is 21.972398589065257\n"
          ],
          "name": "stdout"
        }
      ]
    },
    {
      "cell_type": "code",
      "metadata": {
        "id": "nYgT2-CGFSSV",
        "colab_type": "code",
        "colab": {}
      },
      "source": [
        "# Functions defined under this comment can be used for further analysis\n",
        "\n",
        "def Counter(puzzle):\n",
        "    \"\"\"Counter(puzzle)\n",
        "    input puzzle like \"789456B12\" or multiple puzzles using list\n",
        "    function will return least required movment\n",
        "    \"\"\"\n",
        "    global row_size #m\n",
        "    global column_size #n\n",
        "\n",
        "    global possible_case\n",
        "    global y\n",
        "\n",
        "    # If single case is given\n",
        "    \n",
        "    if type(puzzle)==str:\n",
        "        # make str as slide puzzle grid form\n",
        "        target=[]\n",
        "        letter_cursor=0\n",
        "        for cursor1 in range (column_size):\n",
        "            row=[]\n",
        "            for cursor2 in range (row_size):\n",
        "                try:\n",
        "                    row.append(int(puzzle[letter_cursor]))\n",
        "                except:\n",
        "                    row.append(puzzle[letter_cursor])\n",
        "                letter_cursor+=1\n",
        "            target.append(row)\n",
        "\n",
        "        # y has distribution information\n",
        "        # Find target index and because possible_case has data ordered by minimum required movement\n",
        "        # So with distribution data, target's minimum required movement can be calculated\n",
        "        case_index=possible_case.index(target)\n",
        "        cumulative_distribution=0\n",
        "        distribution_cursor=0\n",
        "        while case_index > cumulative_distribution:\n",
        "            cumulative_distribution+=y[distribution_cursor]\n",
        "            distribution_cursor+=1\n",
        "        return distribution_cursor\n",
        "    \n",
        "    # If multiple cases are given\n",
        "    # Same as single str type data are given but doing it repeatitive\n",
        "    # This feature doesn't needed\n",
        "    '''\n",
        "    else:\n",
        "        result=[]\n",
        "        for single_puzzle in puzzle:\n",
        "            # make str as slide puzzle grid form\n",
        "            target=[]\n",
        "            letter_cursor=0\n",
        "            for cursor1 in range (column_size):\n",
        "                row=[]\n",
        "                for cursor2 in range (row_size):\n",
        "                    try:\n",
        "                        row.append(int(single_puzzle[letter_cursor]))\n",
        "                    except:\n",
        "                        row.append(single_puzzle[letter_cursor])\n",
        "                    letter_cursor+=1\n",
        "                target.append(row)\n",
        "\n",
        "            # y has distribution information\n",
        "            # Find target index and because possible_case has data ordered by minimum required movement\n",
        "            # So with distribution data, target's minimum required movement can be calculated\n",
        "            case_index=possible_case.index(target)\n",
        "            cumulative_distribution=0\n",
        "            distribution_cursor=0\n",
        "            while case_index > cumulative_distribution:\n",
        "                cumulative_distribution+=y[distribution_cursor]\n",
        "                distribution_cursor+=1\n",
        "            result.append(distribution_cursor)\n",
        "        return result\n",
        "    '''\n",
        "            \n",
        "\n",
        "def Path_finder(puzzle):\n",
        "    \"\"\"Path_finder(puzzle)\n",
        "    input puzzle like \"789456B12\"\n",
        "    will return cases that will lead to complete puzzle\n",
        "    \"\"\"\n",
        "    # Get parameters and result from outside of function\n",
        "    global row_size #m\n",
        "    global column_size #n\n",
        "\n",
        "    global possible_case\n",
        "    global y\n",
        "\n",
        "    global result_db\n",
        "    \n",
        "    # make str as slide puzzle grid form\n",
        "    target=[]\n",
        "    letter_cursor=0\n",
        "    for cursor1 in range (column_size):\n",
        "        row=[]\n",
        "        for cursor2 in range (row_size):\n",
        "            try:\n",
        "                row.append(int(puzzle[letter_cursor]))\n",
        "            except:\n",
        "                row.append(puzzle[letter_cursor])\n",
        "            letter_cursor+=1\n",
        "        target.append(row)\n",
        "\n",
        "    \n",
        "    case_index=possible_case.index(target)\n",
        "    \n",
        "    cumulative_distribution=0\n",
        "    distribution_cursor=0\n",
        "\n",
        "    # If only it is not 0 which means if given puzzle is not completed puzzle\n",
        "    if case_index!=0:\n",
        "        \n",
        "        # case_index = 1 (Solved puzzle) + y[0] + y[1] + ... + y[n] + coordinate\n",
        "        # While state loops until y[n+1]\n",
        "        while case_index > cumulative_distribution:\n",
        "            cumulative_distribution+=y[distribution_cursor]\n",
        "            distribution_cursor+=1\n",
        "        # y[n+1] value should not be included\n",
        "        cumulative_distribution-=y[distribution_cursor-1]\n",
        "\n",
        "        # Completed (Solved puzzle) Case\n",
        "        cumulative_distribution+=1\n",
        "\n",
        " \n",
        "    # This is cooridnate of puzzle case in result_db\n",
        "    # result_db[mother_state_dimension][mother_state_cursor]\n",
        "    mother_state_dimension=distribution_cursor\n",
        "    mother_state_cursor=case_index-cumulative_distribution # to get coordinate only\n",
        "\n",
        "    # This list will stack solution of given puzzle case\n",
        "    solution=[]\n",
        "\n",
        "    # Append puzzle step by step\n",
        "    # In result_db, each puzzle case has coordinate of their mother-case\n",
        "    # So by rewinding steps, this function can show solution\n",
        "    while mother_state_dimension>=0:\n",
        "        solution.append(result_db[mother_state_dimension][mother_state_cursor][0])\n",
        "        mother_state_cursor=result_db[mother_state_dimension][mother_state_cursor][1]\n",
        "        mother_state_dimension-=1\n",
        "    return solution"
      ],
      "execution_count": null,
      "outputs": []
    },
    {
      "cell_type": "code",
      "metadata": {
        "id": "lOjHNGukFOTc",
        "colab_type": "code",
        "colab": {
          "base_uri": "https://localhost:8080/",
          "height": 54
        },
        "outputId": "81e95ebe-1c47-4834-9bfe-813add749ec0"
      },
      "source": [
        "# Function under this comment can be used to find letter \"B\" which stands for Blank\n",
        "# But above program now saves B's position so this function has no use\n",
        "'''\n",
        "def Blank_finder(puzzle):\n",
        "    \"\"\"Blank_finder(puzzle)\n",
        "    Find letter \"B\" in the grid\n",
        "    \"\"\"\n",
        "    global row_size\n",
        "    global column_size\n",
        "    for cursor_x in range (column_size):\n",
        "        for cursor_y in range (row_size):\n",
        "            if puzzle[cursor_x][cursor_y]==\"B\":\n",
        "                return cursor_x,cursor_y\n",
        "'''\n"
      ],
      "execution_count": null,
      "outputs": [
        {
          "output_type": "execute_result",
          "data": {
            "text/plain": [
              "'\\ndef Blank_finder(puzzle):\\n    \"\"\"Blank_finder(puzzle)\\n    Find letter \"B\" in the grid\\n    \"\"\"\\n    global row_size\\n    global column_size\\n    for cursor_x in range (column_size):\\n        for cursor_y in range (row_size):\\n            if puzzle[cursor_x][cursor_y]==\"B\":\\n                return cursor_x,cursor_y\\n'"
            ]
          },
          "metadata": {
            "tags": []
          },
          "execution_count": 12
        }
      ]
    },
    {
      "cell_type": "code",
      "metadata": {
        "id": "U0qHk60kFPaw",
        "colab_type": "code",
        "colab": {
          "base_uri": "https://localhost:8080/",
          "height": 54
        },
        "outputId": "bc2f4025-f43b-45ac-87a1-458a27942eab"
      },
      "source": [
        "# Get samples data from in-game data\n",
        "# Data has column of puzzle number and column of puzzle pattern\n",
        "# Values have str type and utf-8-sig encoded\n",
        "# Google colab enviornment requires mounted drive\n",
        "# A Star generated puzzle and samples puzzle should have same size\n",
        "with open (base_dir+\"samples.csv\",newline='',encoding='utf-8-sig') as file:\n",
        "  reader=csv.reader(file)\n",
        "  samples=list(reader)\n",
        "print(samples)"
      ],
      "execution_count": null,
      "outputs": [
        {
          "output_type": "stream",
          "text": [
            "[['6', 'B73849265'], ['3', '95638B247'], ['1', '783925B64'], ['4', 'B83725964'], ['5', '9384B5267'], ['1', '4539286B7'], ['6', '4B5963728'], ['3', '73984B265'], ['1', '6759482B3'], ['3', '95B386247'], ['5', '438B95627'], ['5', '75B698243'], ['5', '38549762B'], ['3', '7B8953624'], ['2', '465938B72'], ['3', 'B35469728'], ['3', '9384B5267'], ['1', '6584B3972'], ['5', '873B95426'], ['6', '385497B62'], ['5', '945623B78'], ['3', '6584B3972'], ['4', '9B6358247'], ['4', '4539286B7'], ['2', '3594B6728'], ['3', '7839256B4'], ['1', '87349526B'], ['1', '9854372B6'], ['3', '95B386247'], ['6', '65847392B'], ['2', '8734B9265'], ['2', '39625847B'], ['2', 'B45923678'], ['1', '43895B627'], ['6', '75B698243'], ['3', '9853B6247'], ['5', '7839256B4'], ['4', '359426B78'], ['2', '7839256B4'], ['6', '73984B265'], ['2', '87349526B'], ['3', '9854372B6'], ['6', 'B35469728'], ['1', '945B63728'], ['4', '7B8953624'], ['4', '38B495627'], ['4', 'B38495627'], ['5', '783925B64'], ['3', '45392867B'], ['1', '46593B728'], ['1', '83572496B'], ['6', '45B923678'], ['4', '75B698243'], ['3', '8B5937426'], ['4', '4B5963728'], ['4', '758B93624'], ['4', '38549762B'], ['2', '95B386247'], ['3', '835B74926'], ['3', '7B8953624'], ['4', 'B85937426'], ['3', '758693B24'], ['6', '938B65427'], ['6', '35946B728'], ['5', '83594B276'], ['6', '945623B78'], ['3', '675B48923'], ['2', '8359742B6'], ['4', '3859B7462'], ['3', '65847392B'], ['3', 'B75698243'], ['4', '83572496B'], ['4', '3594B6728'], ['5', '38596B427'], ['3', '65B438972'], ['2', '8357B4926'], ['5', '7B3849265'], ['6', '4B3958627'], ['5', '9456B3728'], ['3', '98543726B'], ['2', '83594B276'], ['4', '3859674B2'], ['3', '6759B8243'], ['3', '83594B276'], ['3', '873495B26'], ['3', 'B65438972'], ['6', '6584B3972'], ['2', '45B923678'], ['4', '39B256478'], ['4', '465938B72'], ['6', 'B65438972'], ['5', '65B438972'], ['2', 'B83725964'], ['5', 'B38495627'], ['1', '98B435267'], ['2', '938B65427'], ['4', '8B5937426'], ['4', 'B38495627'], ['2', '385497B62'], ['4', '783925B64'], ['1', '65847B923'], ['1', '45B923678'], ['6', '8734B9265'], ['5', '3594B6728'], ['2', '3594B6728'], ['5', '7B3849265'], ['3', '7839256B4'], ['1', 'B73849265'], ['1', '83597B426'], ['6', '83572496B'], ['5', '9384B5267'], ['3', '75B698243'], ['4', '75869324B'], ['2', '385497B62'], ['3', '4B5963728'], ['3', '359426B78'], ['3', '8B5936247'], ['5', '9384B5267'], ['3', '4B3958627'], ['3', '7B3849265'], ['1', '9854372B6'], ['5', '45392867B'], ['3', '8B5936247'], ['1', '675B48923'], ['3', '46593B728'], ['4', '4B3958627'], ['6', '835B74926'], ['6', '46593B728'], ['1', 'B38495627'], ['6', '73984B265'], ['5', '4539286B7'], ['6', 'B85937426'], ['1', '6759482B3'], ['3', '7B8953624'], ['5', '95B386247'], ['6', '45B923678'], ['5', 'B45923678'], ['3', '75869324B'], ['3', '73984B265'], ['5', '438B95627'], ['5', '873495B26'], ['2', '3594B6728'], ['5', '39625847B'], ['4', 'B65438972'], ['5', '38549762B'], ['3', '4B3958627'], ['4', 'B73849265'], ['5', '8734B9265'], ['2', '38549762B'], ['4', 'B85937426'], ['6', '465938B72'], ['3', 'B85936247'], ['1', '38B495627'], ['4', '6759B8243'], ['1', '95B386247'], ['3', '38549762B'], ['2', 'B73849265'], ['4', '835B74926'], ['4', '7839256B4'], ['6', '9456B3728'], ['5', '65847B923'], ['4', 'B38495627'], ['2', '95638B247'], ['3', '3594B6728'], ['3', '38596B427'], ['1', '45B923678'], ['1', 'B35469728'], ['3', '6B5478923'], ['3', 'B85936247'], ['3', '8357B4926'], ['2', '8B5937426'], ['3', '45392867B'], ['2', '46593B728'], ['5', '938465B27'], ['4', '3962584B7'], ['1', '65847B923'], ['5', '938465B27'], ['5', '438B95627'], ['1', '83B725964'], ['1', 'B38495627'], ['2', '938465B27'], ['1', '8734B9265'], ['3', '783925B64'], ['6', 'B85937426'], ['1', '465938B72'], ['1', 'B85937426'], ['2', '65847B923'], ['5', '75869324B'], ['1', '45392867B'], ['3', '465938B72'], ['5', '945B63728'], ['4', '9853B6247'], ['1', '438B95627'], ['4', '8359742B6'], ['4', 'B45923678'], ['5', '95B386247'], ['1', '75869324B'], ['6', '7B3849265'], ['1', '95638B247'], ['6', '3859674B2'], ['2', '6759B8243'], ['6', 'B38495627'], ['5', 'B75698243'], ['2', 'B35469728'], ['4', '46593B728'], ['6', '8357B4926'], ['1', '65847B923'], ['1', '758B93624'], ['5', '438B95627'], ['5', '95B386247'], ['4', '6584B3972'], ['4', '39625847B'], ['6', 'B73849265'], ['2', '39625847B'], ['1', '83572496B'], ['1', '6759B8243'], ['3', 'B83725964'], ['6', '83594627B'], ['1', '39B256478'], ['3', '4659387B2'], ['6', 'B73849265'], ['1', '9384B5267'], ['1', '9853B6247'], ['2', '83B725964'], ['6', '9384B5267'], ['5', 'B75698243'], ['1', '3859B7462'], ['3', '45B923678'], ['5', 'B35469728'], ['6', '8357B4926'], ['6', '8B5937426'], ['3', '83572496B'], ['4', '83594627B'], ['1', '8357B4926'], ['4', '8B5936247'], ['3', '465938B72'], ['6', '758693B24'], ['2', '396258B47'], ['2', '73984B265'], ['3', '8734B9265'], ['3', '9456B3728'], ['4', '75869324B'], ['3', '4B3958627'], ['5', '83B975426'], ['5', 'B38495627'], ['5', '39625847B'], ['1', '758B93624'], ['3', '9B6358247'], ['4', '83594627B'], ['4', '6759482B3'], ['2', '8B5937426'], ['2', '8357B4926'], ['5', '43895B627'], ['1', '6584B3972'], ['5', '835B74926'], ['5', '873B95426'], ['1', '938465B27'], ['4', '43895B627'], ['6', '3594B6728'], ['3', '35946B728'], ['5', '438B95627'], ['4', '9854372B6'], ['6', '65847B923'], ['1', '3962584B7'], ['3', 'B75698243'], ['5', '6759482B3'], ['6', '9B6358247'], ['1', '359B26478'], ['6', '9B6358247'], ['5', '75869324B'], ['5', '6584B3972'], ['2', '873495B26'], ['6', '385497B62'], ['6', '75B698243'], ['6', '75B698243'], ['5', '675B48923'], ['6', '6759B8243'], ['1', '65B438972'], ['1', '83594B276'], ['1', 'B75698243'], ['4', '945B63728'], ['4', '6759B8243'], ['2', '385497B62'], ['4', '95638B247'], ['3', '9384B5267'], ['3', '46593B728'], ['6', '83597B426'], ['2', '38B495627'], ['2', '65B438972'], ['3', '4539286B7'], ['5', '9384B5267'], ['4', '9B6358247'], ['6', '4659387B2'], ['4', '87349526B'], ['1', '39B256478'], ['6', '38596B427'], ['3', '83B725964'], ['5', '9456B3728'], ['3', '8734B9265'], ['6', '758B93624'], ['1', '4539286B7'], ['3', '83B725964'], ['3', '45392867B'], ['3', '83594B276'], ['1', '438B95627'], ['2', '8B5936247'], ['5', '7B3849265'], ['5', 'B45923678'], ['6', '6584B3972'], ['3', 'B73849265'], ['1', '35946B728'], ['5', '6759482B3'], ['3', '9384B5267'], ['3', 'B85936247'], ['6', '83B975426'], ['4', '46593B728'], ['6', '65847392B'], ['3', '83572496B'], ['4', '3859674B2'], ['1', '75B698243'], ['3', '46593B728'], ['1', '945623B78'], ['2', 'B75698243'], ['1', '945623B78'], ['1', '39B256478'], ['2', '938B65427'], ['1', '4B5963728'], ['4', '359B26478'], ['5', 'B65438972'], ['2', '38B495627'], ['3', '359426B78'], ['5', '83572496B'], ['1', '83594627B'], ['6', '3594B6728'], ['6', '675B48923'], ['1', '359B26478'], ['6', '938465B27'], ['4', '3594B6728'], ['1', 'B45923678'], ['6', '3962584B7'], ['1', '45B923678'], ['1', '8B5937426'], ['4', '8357B4926'], ['6', 'B75698243'], ['3', '783925B64'], ['1', '3859674B2'], ['2', '46593B728'], ['5', '65B438972'], ['1', '465938B72'], ['3', '8734B9265'], ['3', '45392867B'], ['1', '8B5936247'], ['3', '4659387B2'], ['4', '83594B276'], ['2', '39625847B'], ['5', '87349526B'], ['1', '9384B5267'], ['4', '39625847B'], ['4', '95638B247'], ['2', '83594627B'], ['5', '98543726B'], ['1', 'B45923678'], ['1', '3859674B2'], ['1', '873495B26'], ['1', 'B45923678'], ['2', '7839256B4'], ['3', '75B698243'], ['5', '758693B24'], ['2', '4539286B7'], ['6', '938B65427'], ['2', '938465B27'], ['6', '938B65427'], ['4', '359426B78'], ['1', '3962584B7'], ['2', '675B48923'], ['5', '65847B923'], ['3', '73984B265'], ['2', 'B35469728'], ['6', '83594B276'], ['3', '65847392B'], ['1', 'B85937426'], ['3', '98543726B'], ['6', '465938B72'], ['4', '78395B624'], ['6', '83B725964'], ['4', '6759482B3'], ['5', '3B8965427'], ['3', '73984B265'], ['4', '7B8953624'], ['3', '45392867B'], ['3', '39B256478'], ['5', 'B83725964'], ['6', '359426B78'], ['2', '945623B78'], ['3', '9456B3728'], ['1', '35946B728'], ['2', '6759B8243'], ['1', 'B85937426'], ['1', '38596B427'], ['1', '873495B26'], ['3', '75B698243'], ['4', '3859674B2'], ['1', '95638B247'], ['5', '98B435267'], ['6', '75B698243'], ['2', '3B8965427'], ['3', '4B5963728'], ['5', '3859B7462'], ['1', '7839256B4'], ['2', '4B5963728'], ['5', '98543726B'], ['1', '39625847B'], ['6', '8734B9265'], ['3', '73984B265'], ['2', '9384B5267'], ['6', '7839256B4'], ['1', '396258B47'], ['1', '396258B47'], ['3', '38596B427'], ['3', '675B48923'], ['5', '945623B78'], ['5', '9B6358247'], ['5', '465938B72'], ['1', '8B5937426'], ['4', '9853B6247'], ['2', '873B95426'], ['2', '65B438972'], ['3', '3B8965427'], ['4', '46593B728'], ['3', '8B5937426'], ['3', '95638B247'], ['6', '75B698243'], ['3', '95B386247'], ['4', '65B438972'], ['3', '38596B427'], ['1', 'B38495627'], ['6', '465938B72'], ['3', '8359742B6'], ['2', '9853B6247'], ['2', '6B5478923'], ['4', '835B74926'], ['6', '95B386247'], ['4', '83597B426'], ['1', '83594B276'], ['3', '39625847B'], ['6', '8357B4926'], ['4', '359B26478'], ['2', 'B45923678'], ['1', '4659387B2'], ['5', '38596B427'], ['5', '73984B265'], ['3', '945B63728'], ['6', '873495B26'], ['1', '9854372B6'], ['6', '83B975426'], ['4', '835B74926'], ['4', '783925B64'], ['5', '38596B427'], ['4', '98543726B'], ['3', '78395B624'], ['3', '75B698243'], ['3', '396258B47'], ['1', 'B65438972'], ['1', '78395B624'], ['4', '758693B24'], ['2', '396258B47'], ['3', '65B438972'], ['5', '83B725964'], ['5', '359426B78'], ['6', '39B256478'], ['3', 'B83725964'], ['4', '43895B627'], ['6', 'B75698243'], ['4', 'B65438972'], ['3', '835B74926'], ['1', '75B698243'], ['3', '95638B247'], ['4', '6B5478923'], ['5', '8B5937426'], ['6', '4B5963728'], ['5', '87349526B'], ['1', '8359742B6'], ['6', '945623B78'], ['4', '438B95627'], ['5', '45392867B'], ['4', '95638B247'], ['2', '7B8953624'], ['6', 'B75698243'], ['5', '45392867B'], ['5', '4B5963728'], ['4', '6584B3972'], ['6', '83594627B'], ['2', '8B5936247'], ['2', 'B85936247'], ['1', '98543726B'], ['3', '73984B265'], ['6', '65847B923'], ['1', '6759B8243'], ['3', '396258B47'], ['1', 'B35469728']]\n"
          ],
          "name": "stdout"
        }
      ]
    },
    {
      "cell_type": "code",
      "metadata": {
        "id": "YT_cBwxpFQUh",
        "colab_type": "code",
        "colab": {
          "base_uri": "https://localhost:8080/",
          "height": 34
        },
        "outputId": "d24f25cd-3982-42f2-c687-4311126ca068"
      },
      "source": [
        "# Check samples length (80)\n",
        "print(\"From sample file,\",len(samples),\"samples were loaded\")"
      ],
      "execution_count": null,
      "outputs": [
        {
          "output_type": "stream",
          "text": [
            "From sample file, 500 samples were loaded\n"
          ],
          "name": "stdout"
        }
      ]
    },
    {
      "cell_type": "code",
      "metadata": {
        "id": "2i025y0kFQ1u",
        "colab_type": "code",
        "colab": {}
      },
      "source": [
        "# Distribute puzzle number column and puzzle type column\n",
        "samples_num=[]\n",
        "samples_type=[]\n",
        "for n in range (len(samples)):\n",
        "  samples_num.append(samples[n][0])\n",
        "  samples_type.append(samples[n][1])"
      ],
      "execution_count": null,
      "outputs": []
    },
    {
      "cell_type": "code",
      "metadata": {
        "id": "yZfDmEGdFQ_S",
        "colab_type": "code",
        "colab": {}
      },
      "source": [
        "puzzle_num_count=6 # Last Origin's case = 6"
      ],
      "execution_count": null,
      "outputs": []
    },
    {
      "cell_type": "code",
      "metadata": {
        "id": "pQzQ3bPIFRFg",
        "colab_type": "code",
        "colab": {
          "base_uri": "https://localhost:8080/",
          "height": 310
        },
        "outputId": "54a961f7-e25d-4a58-ff52-ecaab317a4c0"
      },
      "source": [
        "# Puzzle appearance freequency (ratio) by puzzle number\n",
        "\n",
        "puzzle_frequency_x=range(1,puzzle_num_count+1) # Last origin has 6 type of puzzle\n",
        "puzzle_frequency_y=[]\n",
        "\n",
        "for puzzle_num in (puzzle_frequency_x):\n",
        "  puzzle_frequency_y.append(samples_num.count(str(puzzle_num)))\n",
        "\n",
        "plt.bar(puzzle_frequency_x,puzzle_frequency_y)\n",
        "plt.xlabel(\"Puzzle number\")\n",
        "plt.ylabel(\"Appearance\")\n",
        "plt.title(\"Puzzle appearance frequency by puzzle number\\n(\"+str(len(samples))+\" samples, \"+str(puzzle_num_count)+\" type of puzzle)\")\n",
        "plt.show()"
      ],
      "execution_count": null,
      "outputs": [
        {
          "output_type": "display_data",
          "data": {
            "image/png": "[encoded data removed]",
            "text/plain": [
              "<Figure size 432x288 with 1 Axes>"
            ]
          },
          "metadata": {
            "tags": [],
            "needs_background": "light"
          }
        }
      ]
    },
    {
      "cell_type": "code",
      "metadata": {
        "id": "CV_UVEOnFRLr",
        "colab_type": "code",
        "colab": {
          "base_uri": "https://localhost:8080/",
          "height": 34
        },
        "outputId": "b26ae2a1-bc2e-4b7a-9264-c9a7772e5cbd"
      },
      "source": [
        "# Checking all puzzles are classified (This sholud return same value as samples amount)\n",
        "sum(puzzle_frequency_y)"
      ],
      "execution_count": null,
      "outputs": [
        {
          "output_type": "execute_result",
          "data": {
            "text/plain": [
              "500"
            ]
          },
          "metadata": {
            "tags": []
          },
          "execution_count": 18
        }
      ]
    },
    {
      "cell_type": "code",
      "metadata": {
        "id": "Y-VvUR7yFRWd",
        "colab_type": "code",
        "colab": {
          "base_uri": "https://localhost:8080/",
          "height": 295
        },
        "outputId": "726b7e1d-09c9-402b-d2a8-f1002fa0e506"
      },
      "source": [
        "# Puzzle appearance frequency (ratio) by puzzle pattern (shuffled puzzle)\n",
        "pattern_type_x=[]\n",
        "pattern_type_y=[]\n",
        "for puzzle_pattern in range(len(samples_type)):\n",
        "  if samples_type[puzzle_pattern] not in pattern_type_x:\n",
        "    pattern_type_x.append(samples_type[puzzle_pattern])\n",
        "    pattern_type_y.append(samples_type.count(samples_type[puzzle_pattern]))\n",
        "\n",
        "print(\"Observed pattern types are\",len(pattern_type_x),\"patterns\")\n",
        "\n",
        "plt.bar(pattern_type_x,pattern_type_y)\n",
        "plt.gca().axes.get_xaxis().set_ticks([])\n",
        "plt.xlabel(\"Puzzle pattern\")\n",
        "plt.ylabel(\"Appearance\")\n",
        "plt.title(\"Puzzle appearance frequency by puzzle pattern\")\n",
        "plt.show()"
      ],
      "execution_count": null,
      "outputs": [
        {
          "output_type": "stream",
          "text": [
            "Observed pattern types are 80 patterns\n"
          ],
          "name": "stdout"
        },
        {
          "output_type": "display_data",
          "data": {
            "image/png": "[encoded data removed]",
            "text/plain": [
              "<Figure size 432x288 with 1 Axes>"
            ]
          },
          "metadata": {
            "tags": [],
            "needs_background": "light"
          }
        }
      ]
    },
    {
      "cell_type": "code",
      "metadata": {
        "id": "1bpx493cGhkV",
        "colab_type": "code",
        "colab": {
          "base_uri": "https://localhost:8080/",
          "height": 295
        },
        "outputId": "e1264194-d8f0-4eca-9f33-216eaf689dd8"
      },
      "source": [
        "# Show each patterns required minimum movement to clear puzzle\n",
        "\n",
        "pattern_clear_y=[]\n",
        "for pattern in pattern_type_x:\n",
        "  pattern_clear_y.append(Counter(pattern))\n",
        "plt.bar(pattern_type_x,pattern_clear_y)\n",
        "plt.gca().axes.get_xaxis().set_ticks([])\n",
        "plt.xlabel(\"Puzzle pattern\")\n",
        "plt.ylabel(\"Required minimum movement\")\n",
        "plt.title(\"Required movement by puzzle pattern\")\n",
        "plt.show()\n",
        "\n",
        "print(\"Average minimum required movement is\",np.average(pattern_clear_y))"
      ],
      "execution_count": null,
      "outputs": [
        {
          "output_type": "display_data",
          "data": {
            "image/png": "[encoded data removed]",
            "text/plain": [
              "<Figure size 432x288 with 1 Axes>"
            ]
          },
          "metadata": {
            "tags": [],
            "needs_background": "light"
          }
        },
        {
          "output_type": "stream",
          "text": [
            "Average minimum required movement is 22.4875\n"
          ],
          "name": "stdout"
        }
      ]
    },
    {
      "cell_type": "code",
      "metadata": {
        "id": "pYkNpgFdGhe6",
        "colab_type": "code",
        "colab": {
          "base_uri": "https://localhost:8080/",
          "height": 295
        },
        "outputId": "9f9ef724-156b-491b-e4a8-b9acce10b155"
      },
      "source": [
        "# Show pattern ratio by required minimum movement\n",
        "pattern_clear_frequency_y=[]\n",
        "pattern_clear_frequency_x=range(min(pattern_clear_y),max(pattern_clear_y)+1)\n",
        "\n",
        "for minimum_movement in pattern_clear_frequency_x:\n",
        "  pattern_clear_frequency_y.append(pattern_clear_y.count(minimum_movement))\n",
        "plt.bar(pattern_clear_frequency_x,pattern_clear_frequency_y)\n",
        "plt.xlabel(\"Minimum clear movement\")\n",
        "plt.ylabel(\"Amount of Pattern\")\n",
        "plt.title(\"Each minimum clear movement's pattern types\")\n",
        "plt.show()"
      ],
      "execution_count": null,
      "outputs": [
        {
          "output_type": "display_data",
          "data": {
            "image/png": "[encoded data removed]",
            "text/plain": [
              "<Figure size 432x288 with 1 Axes>"
            ]
          },
          "metadata": {
            "tags": [],
            "needs_background": "light"
          }
        }
      ]
    },
    {
      "cell_type": "code",
      "metadata": {
        "id": "XrOv_pBbGhXc",
        "colab_type": "code",
        "colab": {
          "base_uri": "https://localhost:8080/",
          "height": 327
        },
        "outputId": "74bb494d-04f2-4d35-8e0b-d87788868501"
      },
      "source": [
        "# Sample distribution by minimum clear movement\n",
        "\n",
        "sample_distribution=np.zeros(len(pattern_clear_frequency_x),dtype=\"int\")\n",
        "base=min(pattern_clear_frequency_x)\n",
        "\n",
        "for sample in samples_type:\n",
        "  sample_distribution[Counter(sample)-base]+=1\n",
        "\n",
        "print(sum(sample_distribution))\n",
        "\n",
        "plt.bar(pattern_clear_frequency_x,sample_distribution)\n",
        "plt.xlabel(\"Minimum clear movement\")\n",
        "plt.ylabel(\"Amount of sample\")\n",
        "plt.title(\"Last Origin slide puzzle's \\n minimum clear movement distribution\")\n",
        "plt.show()"
      ],
      "execution_count": null,
      "outputs": [
        {
          "output_type": "stream",
          "text": [
            "500\n"
          ],
          "name": "stdout"
        },
        {
          "output_type": "display_data",
          "data": {
            "image/png": "[encoded data removed]",
            "text/plain": [
              "<Figure size 432x288 with 1 Axes>"
            ]
          },
          "metadata": {
            "tags": [],
            "needs_background": "light"
          }
        }
      ]
    },
    {
      "cell_type": "code",
      "metadata": {
        "id": "wF80-rl5FN42",
        "colab_type": "code",
        "colab": {
          "base_uri": "https://localhost:8080/",
          "height": 34
        },
        "outputId": "ca662036-3951-4c0e-e4ee-07f966c6bbb5"
      },
      "source": [
        "# With each patterns appearance probability, calculate average required minimum movement in last origin slide puzzle\n",
        "total_required_minimum_movement=0\n",
        "for cursor in range (len(pattern_type_y)):\n",
        "  total_required_minimum_movement+=(pattern_type_y[cursor]*pattern_clear_y[cursor])\n",
        "last_origin_average_required_minimum_movement=total_required_minimum_movement/len(samples)\n",
        "print(\"Last Origin slide puzzle's average required minimum movement is\",last_origin_average_required_minimum_movement)\n"
      ],
      "execution_count": null,
      "outputs": [
        {
          "output_type": "stream",
          "text": [
            "Last Origin slide puzzle's average required minimum movement is 22.456\n"
          ],
          "name": "stdout"
        }
      ]
    },
    {
      "cell_type": "code",
      "metadata": {
        "id": "P4oGO-DwGoif",
        "colab_type": "code",
        "colab": {}
      },
      "source": [
        "# Classifiy puzzles by puzzle number\n",
        "\n",
        "pattern_classified=[[],[],[],[],[],[]]\n",
        "\n",
        "for cursor in range (len(samples)):\n",
        "    pattern_classified[int(samples[cursor][0])-1].append(samples[cursor][1])"
      ],
      "execution_count": null,
      "outputs": []
    },
    {
      "cell_type": "code",
      "metadata": {
        "id": "oAXvYz_IGoff",
        "colab_type": "code",
        "colab": {
          "base_uri": "https://localhost:8080/",
          "height": 397
        },
        "outputId": "f27501e9-6ff5-435b-8e39-acbbfb2e9257"
      },
      "source": [
        "# Print each puzzle numbers variety of pattern types\n",
        "pattern_count=[]\n",
        "for puzzle_number in range (0,puzzle_num_count):\n",
        "    pattern_count.append(len(set(pattern_classified[puzzle_number])))\n",
        "    print(\"Puzzle\",puzzle_number+1,\"has\",pattern_count[puzzle_number],\"patterns\")\n",
        "\n",
        "plt.bar(range(1,puzzle_num_count+1),pattern_count)\n",
        "plt.xlabel(\"puzzle number\")\n",
        "plt.ylabel(\"puzzle pattern variety\")\n",
        "plt.title(\"Puzzle pattern variety by puzzle number\")\n",
        "plt.show()"
      ],
      "execution_count": null,
      "outputs": [
        {
          "output_type": "stream",
          "text": [
            "Puzzle 1 has 60 patterns\n",
            "Puzzle 2 has 44 patterns\n",
            "Puzzle 3 has 57 patterns\n",
            "Puzzle 4 has 52 patterns\n",
            "Puzzle 5 has 50 patterns\n",
            "Puzzle 6 has 49 patterns\n"
          ],
          "name": "stdout"
        },
        {
          "output_type": "display_data",
          "data": {
            "image/png": "[encoded data removed]",
            "text/plain": [
              "<Figure size 432x288 with 1 Axes>"
            ]
          },
          "metadata": {
            "tags": [],
            "needs_background": "light"
          }
        }
      ]
    },
    {
      "cell_type": "code",
      "metadata": {
        "id": "MUYzjeyKGocd",
        "colab_type": "code",
        "colab": {
          "base_uri": "https://localhost:8080/",
          "height": 153
        },
        "outputId": "da886fa1-bd0d-4e47-8290-3bf0da70501a"
      },
      "source": [
        "# Similarity Matrix\n",
        "\n",
        "similarity_matrix=[]\n",
        "for cursor_select in range (puzzle_num_count):\n",
        "    similarity_row=[]\n",
        "    for cursor_compare in range (puzzle_num_count):\n",
        "        similarity_row.append(len(set(pattern_classified[cursor_select])&set(pattern_classified[cursor_compare])))\n",
        "    similarity_matrix.append(similarity_row)\n",
        "\n",
        "print(\"Similarity Matrix \\n\")\n",
        "print(np.array(similarity_matrix))"
      ],
      "execution_count": null,
      "outputs": [
        {
          "output_type": "stream",
          "text": [
            "Similarity Matrix \n",
            "\n",
            "[[60 33 41 42 37 36]\n",
            " [33 44 34 25 27 26]\n",
            " [41 34 57 37 37 36]\n",
            " [42 25 37 52 30 27]\n",
            " [37 27 37 30 50 31]\n",
            " [36 26 36 27 31 49]]\n"
          ],
          "name": "stdout"
        }
      ]
    },
    {
      "cell_type": "code",
      "metadata": {
        "id": "fc6HQZtJGoZK",
        "colab_type": "code",
        "colab": {
          "base_uri": "https://localhost:8080/",
          "height": 54
        },
        "outputId": "cd0cca2d-f69c-4a95-ba20-1ab5170f2e6c"
      },
      "source": [
        "# Check most complicated puzzle clear\n",
        "\n",
        "most_complicated=Path_finder(pattern_type_x[pattern_clear_y.index(max(pattern_clear_y))])\n",
        "print(most_complicated)"
      ],
      "execution_count": null,
      "outputs": [
        {
          "output_type": "stream",
          "text": [
            "[[[3, 9, 6], [2, 5, 8], ['B', 4, 7]], [[3, 9, 6], ['B', 5, 8], [2, 4, 7]], [[3, 9, 6], [5, 'B', 8], [2, 4, 7]], [[3, 9, 6], [5, 8, 'B'], [2, 4, 7]], [[3, 9, 'B'], [5, 8, 6], [2, 4, 7]], [[3, 'B', 9], [5, 8, 6], [2, 4, 7]], [['B', 3, 9], [5, 8, 6], [2, 4, 7]], [[5, 3, 9], ['B', 8, 6], [2, 4, 7]], [[5, 3, 9], [8, 'B', 6], [2, 4, 7]], [[5, 'B', 9], [8, 3, 6], [2, 4, 7]], [[5, 9, 'B'], [8, 3, 6], [2, 4, 7]], [[5, 9, 6], [8, 3, 'B'], [2, 4, 7]], [[5, 9, 6], [8, 'B', 3], [2, 4, 7]], [[5, 9, 6], [8, 4, 3], [2, 'B', 7]], [[5, 9, 6], [8, 4, 3], [2, 7, 'B']], [[5, 9, 6], [8, 4, 'B'], [2, 7, 3]], [[5, 9, 'B'], [8, 4, 6], [2, 7, 3]], [[5, 'B', 9], [8, 4, 6], [2, 7, 3]], [['B', 5, 9], [8, 4, 6], [2, 7, 3]], [[8, 5, 9], ['B', 4, 6], [2, 7, 3]], [[8, 5, 9], [4, 'B', 6], [2, 7, 3]], [[8, 5, 9], [4, 7, 6], [2, 'B', 3]], [[8, 5, 9], [4, 7, 6], ['B', 2, 3]], [[8, 5, 9], ['B', 7, 6], [4, 2, 3]], [[8, 5, 9], [7, 'B', 6], [4, 2, 3]], [[8, 'B', 9], [7, 5, 6], [4, 2, 3]], [['B', 8, 9], [7, 5, 6], [4, 2, 3]], [[7, 8, 9], ['B', 5, 6], [4, 2, 3]], [[7, 8, 9], [4, 5, 6], ['B', 2, 3]]]\n"
          ],
          "name": "stdout"
        }
      ]
    },
    {
      "cell_type": "code",
      "metadata": {
        "id": "6tfyNoEwGoWQ",
        "colab_type": "code",
        "colab": {
          "base_uri": "https://localhost:8080/",
          "height": 1000
        },
        "outputId": "edc407ca-5558-40fc-e4a6-99ba317448e6"
      },
      "source": [
        "# Print as np.array for visability\n",
        "\n",
        "for puzzle in range(len(most_complicated)):\n",
        "  print(\"Step\",puzzle)\n",
        "  print(np.array(most_complicated[puzzle]),\"\\n\")"
      ],
      "execution_count": null,
      "outputs": [
        {
          "output_type": "stream",
          "text": [
            "Step 0\n",
            "[['3' '9' '6']\n",
            " ['2' '5' '8']\n",
            " ['B' '4' '7']] \n",
            "\n",
            "Step 1\n",
            "[['3' '9' '6']\n",
            " ['B' '5' '8']\n",
            " ['2' '4' '7']] \n",
            "\n",
            "Step 2\n",
            "[['3' '9' '6']\n",
            " ['5' 'B' '8']\n",
            " ['2' '4' '7']] \n",
            "\n",
            "Step 3\n",
            "[['3' '9' '6']\n",
            " ['5' '8' 'B']\n",
            " ['2' '4' '7']] \n",
            "\n",
            "Step 4\n",
            "[['3' '9' 'B']\n",
            " ['5' '8' '6']\n",
            " ['2' '4' '7']] \n",
            "\n",
            "Step 5\n",
            "[['3' 'B' '9']\n",
            " ['5' '8' '6']\n",
            " ['2' '4' '7']] \n",
            "\n",
            "Step 6\n",
            "[['B' '3' '9']\n",
            " ['5' '8' '6']\n",
            " ['2' '4' '7']] \n",
            "\n",
            "Step 7\n",
            "[['5' '3' '9']\n",
            " ['B' '8' '6']\n",
            " ['2' '4' '7']] \n",
            "\n",
            "Step 8\n",
            "[['5' '3' '9']\n",
            " ['8' 'B' '6']\n",
            " ['2' '4' '7']] \n",
            "\n",
            "Step 9\n",
            "[['5' 'B' '9']\n",
            " ['8' '3' '6']\n",
            " ['2' '4' '7']] \n",
            "\n",
            "Step 10\n",
            "[['5' '9' 'B']\n",
            " ['8' '3' '6']\n",
            " ['2' '4' '7']] \n",
            "\n",
            "Step 11\n",
            "[['5' '9' '6']\n",
            " ['8' '3' 'B']\n",
            " ['2' '4' '7']] \n",
            "\n",
            "Step 12\n",
            "[['5' '9' '6']\n",
            " ['8' 'B' '3']\n",
            " ['2' '4' '7']] \n",
            "\n",
            "Step 13\n",
            "[['5' '9' '6']\n",
            " ['8' '4' '3']\n",
            " ['2' 'B' '7']] \n",
            "\n",
            "Step 14\n",
            "[['5' '9' '6']\n",
            " ['8' '4' '3']\n",
            " ['2' '7' 'B']] \n",
            "\n",
            "Step 15\n",
            "[['5' '9' '6']\n",
            " ['8' '4' 'B']\n",
            " ['2' '7' '3']] \n",
            "\n",
            "Step 16\n",
            "[['5' '9' 'B']\n",
            " ['8' '4' '6']\n",
            " ['2' '7' '3']] \n",
            "\n",
            "Step 17\n",
            "[['5' 'B' '9']\n",
            " ['8' '4' '6']\n",
            " ['2' '7' '3']] \n",
            "\n",
            "Step 18\n",
            "[['B' '5' '9']\n",
            " ['8' '4' '6']\n",
            " ['2' '7' '3']] \n",
            "\n",
            "Step 19\n",
            "[['8' '5' '9']\n",
            " ['B' '4' '6']\n",
            " ['2' '7' '3']] \n",
            "\n",
            "Step 20\n",
            "[['8' '5' '9']\n",
            " ['4' 'B' '6']\n",
            " ['2' '7' '3']] \n",
            "\n",
            "Step 21\n",
            "[['8' '5' '9']\n",
            " ['4' '7' '6']\n",
            " ['2' 'B' '3']] \n",
            "\n",
            "Step 22\n",
            "[['8' '5' '9']\n",
            " ['4' '7' '6']\n",
            " ['B' '2' '3']] \n",
            "\n",
            "Step 23\n",
            "[['8' '5' '9']\n",
            " ['B' '7' '6']\n",
            " ['4' '2' '3']] \n",
            "\n",
            "Step 24\n",
            "[['8' '5' '9']\n",
            " ['7' 'B' '6']\n",
            " ['4' '2' '3']] \n",
            "\n",
            "Step 25\n",
            "[['8' 'B' '9']\n",
            " ['7' '5' '6']\n",
            " ['4' '2' '3']] \n",
            "\n",
            "Step 26\n",
            "[['B' '8' '9']\n",
            " ['7' '5' '6']\n",
            " ['4' '2' '3']] \n",
            "\n",
            "Step 27\n",
            "[['7' '8' '9']\n",
            " ['B' '5' '6']\n",
            " ['4' '2' '3']] \n",
            "\n",
            "Step 28\n",
            "[['7' '8' '9']\n",
            " ['4' '5' '6']\n",
            " ['B' '2' '3']] \n",
            "\n"
          ],
          "name": "stdout"
        }
      ]
    }
  ]
}